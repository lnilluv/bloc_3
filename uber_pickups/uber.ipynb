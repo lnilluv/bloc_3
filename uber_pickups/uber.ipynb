{
 "cells": [
  {
   "cell_type": "code",
   "execution_count": 2,
   "id": "ea5fc081-770c-47c6-9492-56613342d432",
   "metadata": {},
   "outputs": [],
   "source": [
    "import pandas as pd\n",
    "import numpy as np\n",
    "from sklearn.pipeline import Pipeline\n",
    "from sklearn.impute import SimpleImputer\n",
    "from sklearn.preprocessing import  OneHotEncoder, StandardScaler\n",
    "from sklearn.compose import ColumnTransformer\n",
    "from sklearn.cluster import KMeans, DBSCAN\n",
    "from sklearn.metrics import DistanceMetric\n",
    "import plotly.express as px\n",
    "import plotly.graph_objects as go\n",
    "import plotly.io as pio\n",
    "import matplotlib.pyplot as plt\n",
    "import seaborn as sns\n",
    "import warnings\n",
    "\n",
    "warnings.filterwarnings(\"ignore\", category=DeprecationWarning) # to avoid deprecation warnings\n",
    "pio.renderers.default = \"vscode\""
   ]
  },
  {
   "cell_type": "code",
   "execution_count": 3,
   "id": "c3db332b-ae12-400f-a163-27068cdbbb66",
   "metadata": {},
   "outputs": [
    {
     "ename": "FileNotFoundError",
     "evalue": "[Errno 2] No such file or directory: '/uber-trip-data/uber-raw-data-sep14.csv'",
     "output_type": "error",
     "traceback": [
      "\u001b[0;31m---------------------------------------------------------------------------\u001b[0m",
      "\u001b[0;31mFileNotFoundError\u001b[0m                         Traceback (most recent call last)",
      "Cell \u001b[0;32mIn[3], line 1\u001b[0m\n\u001b[0;32m----> 1\u001b[0m df \u001b[39m=\u001b[39m pd\u001b[39m.\u001b[39;49mread_csv(\u001b[39m'\u001b[39;49m\u001b[39m/uber-trip-data/uber-raw-data-sep14.csv\u001b[39;49m\u001b[39m'\u001b[39;49m)\n",
      "File \u001b[0;32m~/.pyenv/versions/3.10.9/envs/bloc_5/lib/python3.10/site-packages/pandas/util/_decorators.py:211\u001b[0m, in \u001b[0;36mdeprecate_kwarg.<locals>._deprecate_kwarg.<locals>.wrapper\u001b[0;34m(*args, **kwargs)\u001b[0m\n\u001b[1;32m    209\u001b[0m     \u001b[39melse\u001b[39;00m:\n\u001b[1;32m    210\u001b[0m         kwargs[new_arg_name] \u001b[39m=\u001b[39m new_arg_value\n\u001b[0;32m--> 211\u001b[0m \u001b[39mreturn\u001b[39;00m func(\u001b[39m*\u001b[39;49margs, \u001b[39m*\u001b[39;49m\u001b[39m*\u001b[39;49mkwargs)\n",
      "File \u001b[0;32m~/.pyenv/versions/3.10.9/envs/bloc_5/lib/python3.10/site-packages/pandas/util/_decorators.py:331\u001b[0m, in \u001b[0;36mdeprecate_nonkeyword_arguments.<locals>.decorate.<locals>.wrapper\u001b[0;34m(*args, **kwargs)\u001b[0m\n\u001b[1;32m    325\u001b[0m \u001b[39mif\u001b[39;00m \u001b[39mlen\u001b[39m(args) \u001b[39m>\u001b[39m num_allow_args:\n\u001b[1;32m    326\u001b[0m     warnings\u001b[39m.\u001b[39mwarn(\n\u001b[1;32m    327\u001b[0m         msg\u001b[39m.\u001b[39mformat(arguments\u001b[39m=\u001b[39m_format_argument_list(allow_args)),\n\u001b[1;32m    328\u001b[0m         \u001b[39mFutureWarning\u001b[39;00m,\n\u001b[1;32m    329\u001b[0m         stacklevel\u001b[39m=\u001b[39mfind_stack_level(),\n\u001b[1;32m    330\u001b[0m     )\n\u001b[0;32m--> 331\u001b[0m \u001b[39mreturn\u001b[39;00m func(\u001b[39m*\u001b[39;49margs, \u001b[39m*\u001b[39;49m\u001b[39m*\u001b[39;49mkwargs)\n",
      "File \u001b[0;32m~/.pyenv/versions/3.10.9/envs/bloc_5/lib/python3.10/site-packages/pandas/io/parsers/readers.py:950\u001b[0m, in \u001b[0;36mread_csv\u001b[0;34m(filepath_or_buffer, sep, delimiter, header, names, index_col, usecols, squeeze, prefix, mangle_dupe_cols, dtype, engine, converters, true_values, false_values, skipinitialspace, skiprows, skipfooter, nrows, na_values, keep_default_na, na_filter, verbose, skip_blank_lines, parse_dates, infer_datetime_format, keep_date_col, date_parser, dayfirst, cache_dates, iterator, chunksize, compression, thousands, decimal, lineterminator, quotechar, quoting, doublequote, escapechar, comment, encoding, encoding_errors, dialect, error_bad_lines, warn_bad_lines, on_bad_lines, delim_whitespace, low_memory, memory_map, float_precision, storage_options)\u001b[0m\n\u001b[1;32m    935\u001b[0m kwds_defaults \u001b[39m=\u001b[39m _refine_defaults_read(\n\u001b[1;32m    936\u001b[0m     dialect,\n\u001b[1;32m    937\u001b[0m     delimiter,\n\u001b[0;32m   (...)\u001b[0m\n\u001b[1;32m    946\u001b[0m     defaults\u001b[39m=\u001b[39m{\u001b[39m\"\u001b[39m\u001b[39mdelimiter\u001b[39m\u001b[39m\"\u001b[39m: \u001b[39m\"\u001b[39m\u001b[39m,\u001b[39m\u001b[39m\"\u001b[39m},\n\u001b[1;32m    947\u001b[0m )\n\u001b[1;32m    948\u001b[0m kwds\u001b[39m.\u001b[39mupdate(kwds_defaults)\n\u001b[0;32m--> 950\u001b[0m \u001b[39mreturn\u001b[39;00m _read(filepath_or_buffer, kwds)\n",
      "File \u001b[0;32m~/.pyenv/versions/3.10.9/envs/bloc_5/lib/python3.10/site-packages/pandas/io/parsers/readers.py:605\u001b[0m, in \u001b[0;36m_read\u001b[0;34m(filepath_or_buffer, kwds)\u001b[0m\n\u001b[1;32m    602\u001b[0m _validate_names(kwds\u001b[39m.\u001b[39mget(\u001b[39m\"\u001b[39m\u001b[39mnames\u001b[39m\u001b[39m\"\u001b[39m, \u001b[39mNone\u001b[39;00m))\n\u001b[1;32m    604\u001b[0m \u001b[39m# Create the parser.\u001b[39;00m\n\u001b[0;32m--> 605\u001b[0m parser \u001b[39m=\u001b[39m TextFileReader(filepath_or_buffer, \u001b[39m*\u001b[39;49m\u001b[39m*\u001b[39;49mkwds)\n\u001b[1;32m    607\u001b[0m \u001b[39mif\u001b[39;00m chunksize \u001b[39mor\u001b[39;00m iterator:\n\u001b[1;32m    608\u001b[0m     \u001b[39mreturn\u001b[39;00m parser\n",
      "File \u001b[0;32m~/.pyenv/versions/3.10.9/envs/bloc_5/lib/python3.10/site-packages/pandas/io/parsers/readers.py:1442\u001b[0m, in \u001b[0;36mTextFileReader.__init__\u001b[0;34m(self, f, engine, **kwds)\u001b[0m\n\u001b[1;32m   1439\u001b[0m     \u001b[39mself\u001b[39m\u001b[39m.\u001b[39moptions[\u001b[39m\"\u001b[39m\u001b[39mhas_index_names\u001b[39m\u001b[39m\"\u001b[39m] \u001b[39m=\u001b[39m kwds[\u001b[39m\"\u001b[39m\u001b[39mhas_index_names\u001b[39m\u001b[39m\"\u001b[39m]\n\u001b[1;32m   1441\u001b[0m \u001b[39mself\u001b[39m\u001b[39m.\u001b[39mhandles: IOHandles \u001b[39m|\u001b[39m \u001b[39mNone\u001b[39;00m \u001b[39m=\u001b[39m \u001b[39mNone\u001b[39;00m\n\u001b[0;32m-> 1442\u001b[0m \u001b[39mself\u001b[39m\u001b[39m.\u001b[39m_engine \u001b[39m=\u001b[39m \u001b[39mself\u001b[39;49m\u001b[39m.\u001b[39;49m_make_engine(f, \u001b[39mself\u001b[39;49m\u001b[39m.\u001b[39;49mengine)\n",
      "File \u001b[0;32m~/.pyenv/versions/3.10.9/envs/bloc_5/lib/python3.10/site-packages/pandas/io/parsers/readers.py:1735\u001b[0m, in \u001b[0;36mTextFileReader._make_engine\u001b[0;34m(self, f, engine)\u001b[0m\n\u001b[1;32m   1733\u001b[0m     \u001b[39mif\u001b[39;00m \u001b[39m\"\u001b[39m\u001b[39mb\u001b[39m\u001b[39m\"\u001b[39m \u001b[39mnot\u001b[39;00m \u001b[39min\u001b[39;00m mode:\n\u001b[1;32m   1734\u001b[0m         mode \u001b[39m+\u001b[39m\u001b[39m=\u001b[39m \u001b[39m\"\u001b[39m\u001b[39mb\u001b[39m\u001b[39m\"\u001b[39m\n\u001b[0;32m-> 1735\u001b[0m \u001b[39mself\u001b[39m\u001b[39m.\u001b[39mhandles \u001b[39m=\u001b[39m get_handle(\n\u001b[1;32m   1736\u001b[0m     f,\n\u001b[1;32m   1737\u001b[0m     mode,\n\u001b[1;32m   1738\u001b[0m     encoding\u001b[39m=\u001b[39;49m\u001b[39mself\u001b[39;49m\u001b[39m.\u001b[39;49moptions\u001b[39m.\u001b[39;49mget(\u001b[39m\"\u001b[39;49m\u001b[39mencoding\u001b[39;49m\u001b[39m\"\u001b[39;49m, \u001b[39mNone\u001b[39;49;00m),\n\u001b[1;32m   1739\u001b[0m     compression\u001b[39m=\u001b[39;49m\u001b[39mself\u001b[39;49m\u001b[39m.\u001b[39;49moptions\u001b[39m.\u001b[39;49mget(\u001b[39m\"\u001b[39;49m\u001b[39mcompression\u001b[39;49m\u001b[39m\"\u001b[39;49m, \u001b[39mNone\u001b[39;49;00m),\n\u001b[1;32m   1740\u001b[0m     memory_map\u001b[39m=\u001b[39;49m\u001b[39mself\u001b[39;49m\u001b[39m.\u001b[39;49moptions\u001b[39m.\u001b[39;49mget(\u001b[39m\"\u001b[39;49m\u001b[39mmemory_map\u001b[39;49m\u001b[39m\"\u001b[39;49m, \u001b[39mFalse\u001b[39;49;00m),\n\u001b[1;32m   1741\u001b[0m     is_text\u001b[39m=\u001b[39;49mis_text,\n\u001b[1;32m   1742\u001b[0m     errors\u001b[39m=\u001b[39;49m\u001b[39mself\u001b[39;49m\u001b[39m.\u001b[39;49moptions\u001b[39m.\u001b[39;49mget(\u001b[39m\"\u001b[39;49m\u001b[39mencoding_errors\u001b[39;49m\u001b[39m\"\u001b[39;49m, \u001b[39m\"\u001b[39;49m\u001b[39mstrict\u001b[39;49m\u001b[39m\"\u001b[39;49m),\n\u001b[1;32m   1743\u001b[0m     storage_options\u001b[39m=\u001b[39;49m\u001b[39mself\u001b[39;49m\u001b[39m.\u001b[39;49moptions\u001b[39m.\u001b[39;49mget(\u001b[39m\"\u001b[39;49m\u001b[39mstorage_options\u001b[39;49m\u001b[39m\"\u001b[39;49m, \u001b[39mNone\u001b[39;49;00m),\n\u001b[1;32m   1744\u001b[0m )\n\u001b[1;32m   1745\u001b[0m \u001b[39massert\u001b[39;00m \u001b[39mself\u001b[39m\u001b[39m.\u001b[39mhandles \u001b[39mis\u001b[39;00m \u001b[39mnot\u001b[39;00m \u001b[39mNone\u001b[39;00m\n\u001b[1;32m   1746\u001b[0m f \u001b[39m=\u001b[39m \u001b[39mself\u001b[39m\u001b[39m.\u001b[39mhandles\u001b[39m.\u001b[39mhandle\n",
      "File \u001b[0;32m~/.pyenv/versions/3.10.9/envs/bloc_5/lib/python3.10/site-packages/pandas/io/common.py:856\u001b[0m, in \u001b[0;36mget_handle\u001b[0;34m(path_or_buf, mode, encoding, compression, memory_map, is_text, errors, storage_options)\u001b[0m\n\u001b[1;32m    851\u001b[0m \u001b[39melif\u001b[39;00m \u001b[39misinstance\u001b[39m(handle, \u001b[39mstr\u001b[39m):\n\u001b[1;32m    852\u001b[0m     \u001b[39m# Check whether the filename is to be opened in binary mode.\u001b[39;00m\n\u001b[1;32m    853\u001b[0m     \u001b[39m# Binary mode does not support 'encoding' and 'newline'.\u001b[39;00m\n\u001b[1;32m    854\u001b[0m     \u001b[39mif\u001b[39;00m ioargs\u001b[39m.\u001b[39mencoding \u001b[39mand\u001b[39;00m \u001b[39m\"\u001b[39m\u001b[39mb\u001b[39m\u001b[39m\"\u001b[39m \u001b[39mnot\u001b[39;00m \u001b[39min\u001b[39;00m ioargs\u001b[39m.\u001b[39mmode:\n\u001b[1;32m    855\u001b[0m         \u001b[39m# Encoding\u001b[39;00m\n\u001b[0;32m--> 856\u001b[0m         handle \u001b[39m=\u001b[39m \u001b[39mopen\u001b[39;49m(\n\u001b[1;32m    857\u001b[0m             handle,\n\u001b[1;32m    858\u001b[0m             ioargs\u001b[39m.\u001b[39;49mmode,\n\u001b[1;32m    859\u001b[0m             encoding\u001b[39m=\u001b[39;49mioargs\u001b[39m.\u001b[39;49mencoding,\n\u001b[1;32m    860\u001b[0m             errors\u001b[39m=\u001b[39;49merrors,\n\u001b[1;32m    861\u001b[0m             newline\u001b[39m=\u001b[39;49m\u001b[39m\"\u001b[39;49m\u001b[39m\"\u001b[39;49m,\n\u001b[1;32m    862\u001b[0m         )\n\u001b[1;32m    863\u001b[0m     \u001b[39melse\u001b[39;00m:\n\u001b[1;32m    864\u001b[0m         \u001b[39m# Binary mode\u001b[39;00m\n\u001b[1;32m    865\u001b[0m         handle \u001b[39m=\u001b[39m \u001b[39mopen\u001b[39m(handle, ioargs\u001b[39m.\u001b[39mmode)\n",
      "\u001b[0;31mFileNotFoundError\u001b[0m: [Errno 2] No such file or directory: '/uber-trip-data/uber-raw-data-sep14.csv'"
     ]
    }
   ],
   "source": [
    "df = pd.read_csv('uber-trip-data/uber-raw-data-sep14.csv')"
   ]
  },
  {
   "cell_type": "code",
   "execution_count": null,
   "id": "1be71343-788a-40b6-b06d-13b93e588fde",
   "metadata": {},
   "outputs": [
    {
     "data": {
      "text/html": [
       "<div>\n",
       "<style scoped>\n",
       "    .dataframe tbody tr th:only-of-type {\n",
       "        vertical-align: middle;\n",
       "    }\n",
       "\n",
       "    .dataframe tbody tr th {\n",
       "        vertical-align: top;\n",
       "    }\n",
       "\n",
       "    .dataframe thead th {\n",
       "        text-align: right;\n",
       "    }\n",
       "</style>\n",
       "<table border=\"1\" class=\"dataframe\">\n",
       "  <thead>\n",
       "    <tr style=\"text-align: right;\">\n",
       "      <th></th>\n",
       "      <th>Date/Time</th>\n",
       "      <th>Lat</th>\n",
       "      <th>Lon</th>\n",
       "      <th>Base</th>\n",
       "    </tr>\n",
       "  </thead>\n",
       "  <tbody>\n",
       "    <tr>\n",
       "      <th>0</th>\n",
       "      <td>9/1/2014 0:01:00</td>\n",
       "      <td>40.2201</td>\n",
       "      <td>-74.0021</td>\n",
       "      <td>B02512</td>\n",
       "    </tr>\n",
       "    <tr>\n",
       "      <th>1</th>\n",
       "      <td>9/1/2014 0:01:00</td>\n",
       "      <td>40.7500</td>\n",
       "      <td>-74.0027</td>\n",
       "      <td>B02512</td>\n",
       "    </tr>\n",
       "    <tr>\n",
       "      <th>2</th>\n",
       "      <td>9/1/2014 0:03:00</td>\n",
       "      <td>40.7559</td>\n",
       "      <td>-73.9864</td>\n",
       "      <td>B02512</td>\n",
       "    </tr>\n",
       "    <tr>\n",
       "      <th>3</th>\n",
       "      <td>9/1/2014 0:06:00</td>\n",
       "      <td>40.7450</td>\n",
       "      <td>-73.9889</td>\n",
       "      <td>B02512</td>\n",
       "    </tr>\n",
       "    <tr>\n",
       "      <th>4</th>\n",
       "      <td>9/1/2014 0:11:00</td>\n",
       "      <td>40.8145</td>\n",
       "      <td>-73.9444</td>\n",
       "      <td>B02512</td>\n",
       "    </tr>\n",
       "  </tbody>\n",
       "</table>\n",
       "</div>"
      ],
      "text/plain": [
       "          Date/Time      Lat      Lon    Base\n",
       "0  9/1/2014 0:01:00  40.2201 -74.0021  B02512\n",
       "1  9/1/2014 0:01:00  40.7500 -74.0027  B02512\n",
       "2  9/1/2014 0:03:00  40.7559 -73.9864  B02512\n",
       "3  9/1/2014 0:06:00  40.7450 -73.9889  B02512\n",
       "4  9/1/2014 0:11:00  40.8145 -73.9444  B02512"
      ]
     },
     "execution_count": 3,
     "metadata": {},
     "output_type": "execute_result"
    }
   ],
   "source": [
    "df.head()"
   ]
  },
  {
   "cell_type": "code",
   "execution_count": null,
   "id": "03599417-2994-41ca-965c-0d199dbb2afb",
   "metadata": {},
   "outputs": [
    {
     "data": {
      "text/plain": [
       "(1028136, 4)"
      ]
     },
     "execution_count": 4,
     "metadata": {},
     "output_type": "execute_result"
    }
   ],
   "source": [
    "df.shape"
   ]
  },
  {
   "cell_type": "markdown",
   "id": "641119ad-3ade-4107-87ea-b9fff4e355b9",
   "metadata": {},
   "source": [
    "# Preprocessing"
   ]
  },
  {
   "cell_type": "code",
   "execution_count": null,
   "id": "7c788add-3d70-4779-aff5-fa30f430ad9b",
   "metadata": {},
   "outputs": [],
   "source": [
    "df['Date/Time'] = pd.to_datetime(df['Date/Time'],format='%m/%d/%Y %H:%M:%S')"
   ]
  },
  {
   "cell_type": "code",
   "execution_count": null,
   "id": "4b001ef0-f79f-4101-a996-417319da5192",
   "metadata": {},
   "outputs": [],
   "source": [
    "df['Date/Time'] = pd.to_datetime(df['Date/Time'],format='%m/%d/%Y %H:%M:%S')\n",
    "df['Day'] = df['Date/Time'].dt.day\n",
    "df['DayOfWeek'] = df['Date/Time'].dt.dayofweek\n",
    "df['DayOfWeekLabel'] = df['Date/Time'].dt.day_name()\n",
    "df['Month'] = df['Date/Time'].dt.month\n",
    "df['Year'] = df['Date/Time'].dt.year\n",
    "df['Hour'] = df['Date/Time'].dt.hour\n",
    "df['Minute'] = df['Date/Time'].dt.minute"
   ]
  },
  {
   "cell_type": "code",
   "execution_count": null,
   "id": "11199f8a",
   "metadata": {},
   "outputs": [],
   "source": [
    "df[\"DayOfWeekAndHour\"] = df[\"DayOfWeekLabel\"] + \"_\" + df[\"Hour\"].astype(str)+\"h\""
   ]
  },
  {
   "cell_type": "code",
   "execution_count": null,
   "id": "9cec7269-91db-464a-b103-c1b61bd9287d",
   "metadata": {},
   "outputs": [
    {
     "data": {
      "text/plain": [
       "Date/Time           0\n",
       "Lat                 0\n",
       "Lon                 0\n",
       "Base                0\n",
       "Day                 0\n",
       "DayOfWeek           0\n",
       "DayOfWeekLabel      0\n",
       "Month               0\n",
       "Year                0\n",
       "Hour                0\n",
       "Minute              0\n",
       "DayOfWeekAndHour    0\n",
       "dtype: int64"
      ]
     },
     "execution_count": 8,
     "metadata": {},
     "output_type": "execute_result"
    }
   ],
   "source": [
    "df.isna().sum()"
   ]
  },
  {
   "cell_type": "code",
   "execution_count": null,
   "id": "2b338929",
   "metadata": {},
   "outputs": [
    {
     "data": {
      "text/html": [
       "<div>\n",
       "<style scoped>\n",
       "    .dataframe tbody tr th:only-of-type {\n",
       "        vertical-align: middle;\n",
       "    }\n",
       "\n",
       "    .dataframe tbody tr th {\n",
       "        vertical-align: top;\n",
       "    }\n",
       "\n",
       "    .dataframe thead th {\n",
       "        text-align: right;\n",
       "    }\n",
       "</style>\n",
       "<table border=\"1\" class=\"dataframe\">\n",
       "  <thead>\n",
       "    <tr style=\"text-align: right;\">\n",
       "      <th></th>\n",
       "      <th>Date/Time</th>\n",
       "      <th>Lat</th>\n",
       "      <th>Lon</th>\n",
       "      <th>Base</th>\n",
       "      <th>Day</th>\n",
       "      <th>DayOfWeek</th>\n",
       "      <th>DayOfWeekLabel</th>\n",
       "      <th>Month</th>\n",
       "      <th>Year</th>\n",
       "      <th>Hour</th>\n",
       "      <th>Minute</th>\n",
       "      <th>DayOfWeekAndHour</th>\n",
       "    </tr>\n",
       "  </thead>\n",
       "  <tbody>\n",
       "    <tr>\n",
       "      <th>0</th>\n",
       "      <td>2014-09-01 00:01:00</td>\n",
       "      <td>40.2201</td>\n",
       "      <td>-74.0021</td>\n",
       "      <td>B02512</td>\n",
       "      <td>1</td>\n",
       "      <td>0</td>\n",
       "      <td>Monday</td>\n",
       "      <td>9</td>\n",
       "      <td>2014</td>\n",
       "      <td>0</td>\n",
       "      <td>1</td>\n",
       "      <td>Monday_0h</td>\n",
       "    </tr>\n",
       "    <tr>\n",
       "      <th>1</th>\n",
       "      <td>2014-09-01 00:01:00</td>\n",
       "      <td>40.7500</td>\n",
       "      <td>-74.0027</td>\n",
       "      <td>B02512</td>\n",
       "      <td>1</td>\n",
       "      <td>0</td>\n",
       "      <td>Monday</td>\n",
       "      <td>9</td>\n",
       "      <td>2014</td>\n",
       "      <td>0</td>\n",
       "      <td>1</td>\n",
       "      <td>Monday_0h</td>\n",
       "    </tr>\n",
       "    <tr>\n",
       "      <th>2</th>\n",
       "      <td>2014-09-01 00:03:00</td>\n",
       "      <td>40.7559</td>\n",
       "      <td>-73.9864</td>\n",
       "      <td>B02512</td>\n",
       "      <td>1</td>\n",
       "      <td>0</td>\n",
       "      <td>Monday</td>\n",
       "      <td>9</td>\n",
       "      <td>2014</td>\n",
       "      <td>0</td>\n",
       "      <td>3</td>\n",
       "      <td>Monday_0h</td>\n",
       "    </tr>\n",
       "    <tr>\n",
       "      <th>3</th>\n",
       "      <td>2014-09-01 00:06:00</td>\n",
       "      <td>40.7450</td>\n",
       "      <td>-73.9889</td>\n",
       "      <td>B02512</td>\n",
       "      <td>1</td>\n",
       "      <td>0</td>\n",
       "      <td>Monday</td>\n",
       "      <td>9</td>\n",
       "      <td>2014</td>\n",
       "      <td>0</td>\n",
       "      <td>6</td>\n",
       "      <td>Monday_0h</td>\n",
       "    </tr>\n",
       "    <tr>\n",
       "      <th>4</th>\n",
       "      <td>2014-09-01 00:11:00</td>\n",
       "      <td>40.8145</td>\n",
       "      <td>-73.9444</td>\n",
       "      <td>B02512</td>\n",
       "      <td>1</td>\n",
       "      <td>0</td>\n",
       "      <td>Monday</td>\n",
       "      <td>9</td>\n",
       "      <td>2014</td>\n",
       "      <td>0</td>\n",
       "      <td>11</td>\n",
       "      <td>Monday_0h</td>\n",
       "    </tr>\n",
       "  </tbody>\n",
       "</table>\n",
       "</div>"
      ],
      "text/plain": [
       "            Date/Time      Lat      Lon    Base  Day  DayOfWeek  \\\n",
       "0 2014-09-01 00:01:00  40.2201 -74.0021  B02512    1          0   \n",
       "1 2014-09-01 00:01:00  40.7500 -74.0027  B02512    1          0   \n",
       "2 2014-09-01 00:03:00  40.7559 -73.9864  B02512    1          0   \n",
       "3 2014-09-01 00:06:00  40.7450 -73.9889  B02512    1          0   \n",
       "4 2014-09-01 00:11:00  40.8145 -73.9444  B02512    1          0   \n",
       "\n",
       "  DayOfWeekLabel  Month  Year  Hour  Minute DayOfWeekAndHour  \n",
       "0         Monday      9  2014     0       1        Monday_0h  \n",
       "1         Monday      9  2014     0       1        Monday_0h  \n",
       "2         Monday      9  2014     0       3        Monday_0h  \n",
       "3         Monday      9  2014     0       6        Monday_0h  \n",
       "4         Monday      9  2014     0      11        Monday_0h  "
      ]
     },
     "execution_count": 9,
     "metadata": {},
     "output_type": "execute_result"
    }
   ],
   "source": [
    "df.head()"
   ]
  },
  {
   "cell_type": "code",
   "execution_count": null,
   "id": "827c9cac-77aa-47bd-b486-46ffee3bf9a9",
   "metadata": {},
   "outputs": [],
   "source": [
    "numeric_features = ['Lat', 'Lon']\n",
    "#categorical_features = ['Base']"
   ]
  },
  {
   "cell_type": "code",
   "execution_count": null,
   "id": "96c4bc44-340f-455c-9489-12015f7b3510",
   "metadata": {},
   "outputs": [],
   "source": [
    "# Create pipeline for numeric features\n",
    "numeric_transformer = Pipeline(steps=[\n",
    "    #('imputer', SimpleImputer()), \n",
    "    ('scaler', StandardScaler())\n",
    "])\n",
    "\n",
    "# Create pipeline for categorical features\n",
    "categorical_transformer = Pipeline(\n",
    "    steps=[\n",
    "    ('imputer', SimpleImputer(strategy='most_frequent')), # missing values will be replaced by most frequent value\n",
    "    ('encoder', OneHotEncoder(drop='first')) # first column will be dropped to avoid creating correlations between features\n",
    "    ])\n",
    "\n",
    "# Use ColumnTransformer to make a preprocessor object that describes all the treatments to be done\n",
    "preprocessor = ColumnTransformer(\n",
    "    transformers=[\n",
    "        ('num', numeric_transformer, numeric_features),\n",
    "        #('cat', categorical_transformer, categorical_features)\n",
    "    ])\n"
   ]
  },
  {
   "cell_type": "code",
   "execution_count": null,
   "id": "f480763e-8096-4716-9845-2a1289e352d0",
   "metadata": {},
   "outputs": [],
   "source": [
    "X = preprocessor.fit_transform(df)"
   ]
  },
  {
   "cell_type": "code",
   "execution_count": null,
   "id": "b5eff682",
   "metadata": {},
   "outputs": [
    {
     "data": {
      "text/plain": [
       "array([[-12.71465439,  -0.51931048],\n",
       "       [  0.26399745,  -0.52959958],\n",
       "       [  0.40850405,  -0.25007886],\n",
       "       ...,\n",
       "       [  2.75979784,   0.68451499],\n",
       "       [ -0.76224431,  -0.59647878],\n",
       "       [ -0.61773772,   0.38098635]])"
      ]
     },
     "execution_count": 13,
     "metadata": {},
     "output_type": "execute_result"
    }
   ],
   "source": [
    "X"
   ]
  },
  {
   "cell_type": "markdown",
   "id": "6156c8f1-543d-44b3-a714-6bdebbb73943",
   "metadata": {},
   "source": [
    "## EDA"
   ]
  },
  {
   "attachments": {},
   "cell_type": "markdown",
   "id": "d44e2ae9",
   "metadata": {},
   "source": [
    "#### Journeys By Month"
   ]
  },
  {
   "cell_type": "code",
   "execution_count": null,
   "id": "5bb6ff2b",
   "metadata": {},
   "outputs": [
    {
     "data": {
      "text/html": [
       "<div>\n",
       "<style scoped>\n",
       "    .dataframe tbody tr th:only-of-type {\n",
       "        vertical-align: middle;\n",
       "    }\n",
       "\n",
       "    .dataframe tbody tr th {\n",
       "        vertical-align: top;\n",
       "    }\n",
       "\n",
       "    .dataframe thead th {\n",
       "        text-align: right;\n",
       "    }\n",
       "</style>\n",
       "<table border=\"1\" class=\"dataframe\">\n",
       "  <thead>\n",
       "    <tr style=\"text-align: right;\">\n",
       "      <th></th>\n",
       "      <th>Date/Time</th>\n",
       "      <th>nb_journeys</th>\n",
       "    </tr>\n",
       "  </thead>\n",
       "  <tbody>\n",
       "    <tr>\n",
       "      <th>0</th>\n",
       "      <td>2014-09-01 00:00:00</td>\n",
       "      <td>13</td>\n",
       "    </tr>\n",
       "    <tr>\n",
       "      <th>1</th>\n",
       "      <td>2014-09-01 00:01:00</td>\n",
       "      <td>18</td>\n",
       "    </tr>\n",
       "    <tr>\n",
       "      <th>2</th>\n",
       "      <td>2014-09-01 00:02:00</td>\n",
       "      <td>13</td>\n",
       "    </tr>\n",
       "    <tr>\n",
       "      <th>3</th>\n",
       "      <td>2014-09-01 00:03:00</td>\n",
       "      <td>10</td>\n",
       "    </tr>\n",
       "    <tr>\n",
       "      <th>4</th>\n",
       "      <td>2014-09-01 00:04:00</td>\n",
       "      <td>14</td>\n",
       "    </tr>\n",
       "  </tbody>\n",
       "</table>\n",
       "</div>"
      ],
      "text/plain": [
       "            Date/Time  nb_journeys\n",
       "0 2014-09-01 00:00:00           13\n",
       "1 2014-09-01 00:01:00           18\n",
       "2 2014-09-01 00:02:00           13\n",
       "3 2014-09-01 00:03:00           10\n",
       "4 2014-09-01 00:04:00           14"
      ]
     },
     "execution_count": 13,
     "metadata": {},
     "output_type": "execute_result"
    }
   ],
   "source": [
    "pickup_time_df = df.groupby(by = \"Date/Time\").size().to_frame().reset_index()\n",
    "pickup_time_df.rename(columns = {0:'nb_journeys'}, inplace = True)\n",
    "pickup_time_df.head()"
   ]
  },
  {
   "cell_type": "code",
   "execution_count": null,
   "id": "4a6ea9c1",
   "metadata": {},
   "outputs": [],
   "source": [
    "# Visualising number of journeys depending on the day of the month and the hour of the day.\n",
    "fig = px.line(x=pickup_time_df[\"Date/Time\"], y = pickup_time_df[\"nb_journeys\"])\n",
    "fig.update_layout(\n",
    "    title=\"Evolution of number of Uber journeys over a month\",\n",
    "    xaxis_title=\"Time\",\n",
    "    yaxis_title=\"Nb journeys\"\n",
    "    )\n",
    "fig.show()"
   ]
  },
  {
   "attachments": {},
   "cell_type": "markdown",
   "id": "deb43430",
   "metadata": {},
   "source": [
    "#### Journeys By Month Day"
   ]
  },
  {
   "cell_type": "code",
   "execution_count": null,
   "id": "b6699ef2",
   "metadata": {},
   "outputs": [
    {
     "data": {
      "image/png": "[encoded data removed]",
      "text/plain": [
       "<Figure size 1080x576 with 1 Axes>"
      ]
     },
     "metadata": {
      "needs_background": "light"
     },
     "output_type": "display_data"
    }
   ],
   "source": [
    "uber_monthdays = df.pivot_table(index=['Day'],\n",
    "                                  values='Base',\n",
    "                                  aggfunc='count')\n",
    "uber_monthdays.plot(kind='bar', figsize=(15,8))\n",
    "plt.ylabel('Total Journeys')\n",
    "plt.title('Journeys by Month Day');"
   ]
  },
  {
   "attachments": {},
   "cell_type": "markdown",
   "id": "f088fca5-f10e-42db-9bbd-b4a95941a144",
   "metadata": {},
   "source": [
    "#### Journeys By Weakdays"
   ]
  },
  {
   "cell_type": "code",
   "execution_count": null,
   "id": "07dec487-f63d-4158-b868-2ed2078aad9d",
   "metadata": {},
   "outputs": [
    {
     "data": {
      "text/plain": [
       "<AxesSubplot:title={'center':'Bar Plot for Weekdays trips'}, xlabel='day'>"
      ]
     },
     "execution_count": 16,
     "metadata": {},
     "output_type": "execute_result"
    },
    {
     "data": {
      "image/png": "[encoded data removed]",
      "text/plain": [
       "<Figure size 720x360 with 1 Axes>"
      ]
     },
     "metadata": {
      "needs_background": "light"
     },
     "output_type": "display_data"
    }
   ],
   "source": [
    "uber_weekdays = df['DayOfWeekLabel'].value_counts().reset_index().rename(columns={'index':'day','DayOfWeekLabel':'count'})\n",
    "\n",
    "uber_weekdays.plot(\n",
    "    kind='bar',\n",
    "    x='day',\n",
    "    y='count',\n",
    "    title='Bar Plot for Weekdays trips',\n",
    "    figsize=(10, 5)\n",
    ")"
   ]
  },
  {
   "cell_type": "markdown",
   "id": "0b299ad8",
   "metadata": {},
   "source": [
    "#### Journeys by Hour"
   ]
  },
  {
   "cell_type": "code",
   "execution_count": null,
   "id": "13464a6a",
   "metadata": {},
   "outputs": [
    {
     "data": {
      "image/png": "[encoded data removed]",
      "text/plain": [
       "<Figure size 1080x576 with 1 Axes>"
      ]
     },
     "metadata": {
      "needs_background": "light"
     },
     "output_type": "display_data"
    }
   ],
   "source": [
    "uber_hour = df.pivot_table(index=['Hour'],\n",
    "                                  values='Base',\n",
    "                                  aggfunc='count')\n",
    "uber_hour.plot(kind='bar', figsize=(15,8))\n",
    "plt.ylabel('Total Journeys')\n",
    "plt.title('Journeys by Hour');"
   ]
  },
  {
   "cell_type": "markdown",
   "id": "6e84bdfe-195c-49c8-be5c-47a8d7deae04",
   "metadata": {},
   "source": [
    "## Model"
   ]
  },
  {
   "cell_type": "markdown",
   "id": "40c80f25",
   "metadata": {},
   "source": [
    "##### Select $K$ optimal clusters"
   ]
  },
  {
   "cell_type": "markdown",
   "id": "2db13dcf",
   "metadata": {},
   "source": [
    "##### Elbow Method"
   ]
  },
  {
   "cell_type": "code",
   "execution_count": null,
   "id": "b1285b17",
   "metadata": {},
   "outputs": [],
   "source": [
    "# Let's create a loop that will collect the Within-sum-of-square (wcss) for each value K \n",
    "# Let's use .inertia_ parameter to get the within sum of square value for each value K \n",
    "wcss =  []\n",
    "k = []\n",
    "for i in range (2,11): \n",
    "    kmeans = KMeans(n_clusters= i, random_state = 0)\n",
    "    kmeans.fit(X)\n",
    "    wcss.append(kmeans.inertia_)\n",
    "    k.append(i)\n",
    "    # print(\"WCSS for K={} --> {}\".format(i, wcss[-1]))\n",
    "\n",
    "print(wcss)\n",
    "\n",
    "# Create DataFrame\n",
    "wcss_frame = pd.DataFrame(wcss)\n",
    "k_frame = pd.Series(k)\n",
    "\n",
    "# Create figure\n",
    "fig= px.line(\n",
    "    wcss_frame,\n",
    "    x=k_frame,\n",
    "    y=wcss_frame.iloc[:,-1]\n",
    ")\n",
    "\n",
    "# Create title and axis labels\n",
    "fig.update_layout(\n",
    "    yaxis_title=\"Inertia\",\n",
    "    xaxis_title=\"# Clusters\",\n",
    "    title=\"Inertia per cluster\"\n",
    ")\n",
    "\n",
    "# Render\n",
    "#fig.show(renderer=\"notebook\")\n",
    "# fig.show(renderer=\"iframe\") # if using workspace\n",
    "fig.show() # if using workspace"
   ]
  },
  {
   "cell_type": "markdown",
   "id": "56aabae1",
   "metadata": {},
   "source": [
    "## Silhouette 👥\n",
    "\n",
    "Let's now double check with the Silhouette method. We will use Sklearn again to get <a href=\"https://scikit-learn.org/stable/modules/generated/sklearn.metrics.silhouette_score.html?highlight=silhouette#sklearn.metrics.silhouette_score\" target=\"_blank\">silhouette scores.</a>"
   ]
  },
  {
   "cell_type": "code",
   "execution_count": null,
   "id": "da4fbd01",
   "metadata": {},
   "outputs": [],
   "source": [
    "# Import silhouette score\n",
    "from sklearn.metrics import silhouette_score\n",
    "\n",
    "# Computer mean silhouette score\n",
    "sil = []\n",
    "k = []\n",
    "\n",
    "## Careful, you need to start at i=2 as silhouette score cannot accept less than 2 labels \n",
    "for i in range (2,11): \n",
    "    kmeans = KMeans(n_clusters= i, random_state = 0)\n",
    "    kmeans.fit(X)\n",
    "    sil.append(silhouette_score(X, kmeans.predict(X)))\n",
    "    k.append(i)\n",
    "    #print(\"Silhouette score for K={} is {}\".format(i, sil[-1]))\n",
    "\n",
    "print(sil)\n",
    "\n",
    "# Create a data frame \n",
    "cluster_scores=pd.DataFrame(sil)\n",
    "k_frame = pd.Series(k)\n",
    "\n",
    "# Create figure\n",
    "fig = px.bar(data_frame=cluster_scores,  \n",
    "             x=k, \n",
    "             y=cluster_scores.iloc[:, -1]\n",
    "            )\n",
    "\n",
    "# Add title and axis labels\n",
    "fig.update_layout(\n",
    "    yaxis_title=\"Silhouette Score\",\n",
    "    xaxis_title=\"# Clusters\",\n",
    "    title=\"Silhouette Score per cluster\"\n",
    ")\n",
    "\n",
    "# Render\n",
    "#fig.show(renderer=\"notebook\")\n",
    "# fig.show(renderer=\"iframe\") # if using workspace\n",
    "fig.show() # if using workspace"
   ]
  },
  {
   "cell_type": "code",
   "execution_count": null,
   "id": "589db10a-6817-4a90-8c7d-f9a44678ba85",
   "metadata": {},
   "outputs": [],
   "source": [
    "# define the model\n",
    "model = KMeans(n_clusters=4)\n",
    "\n",
    "# fit the model\n",
    "model.fit(X)\n",
    "\n",
    "# the prediction assign each example (pickup) to his cluster\n",
    "clusters = model.predict(X)"
   ]
  },
  {
   "cell_type": "code",
   "execution_count": null,
   "id": "0934e189",
   "metadata": {},
   "outputs": [],
   "source": [
    "df['Cluster'] = clusters"
   ]
  },
  {
   "cell_type": "code",
   "execution_count": null,
   "id": "31521bee",
   "metadata": {},
   "outputs": [],
   "source": [
    "# Visualising the clusters on the map\n",
    "fig = px.scatter_mapbox(df,\n",
    "                        lat='Lat', \n",
    "                        lon='Lon',\n",
    "                        color='Cluster',\n",
    "                        zoom=5,\n",
    "                        height=800,\n",
    "                        mapbox_style='carto-positron'\n",
    "                        )\n",
    "fig.show()"
   ]
  },
  {
   "attachments": {},
   "cell_type": "markdown",
   "id": "393477a3",
   "metadata": {},
   "source": [
    "> #### I have my <font color='green'>4 clusters</font>, Go ahead and Analyze those clusters."
   ]
  },
  {
   "cell_type": "markdown",
   "id": "e9e9a03c-df56-45dd-b9e7-6d990f75c6f6",
   "metadata": {},
   "source": [
    "## Analysing the results of K-means Clustering"
   ]
  },
  {
   "attachments": {},
   "cell_type": "markdown",
   "id": "75decdc2",
   "metadata": {},
   "source": [
    "> #### With so many data points, it's a difficult to pick out the characteristics of the clusters."
   ]
  },
  {
   "attachments": {},
   "cell_type": "markdown",
   "id": "6dc6136a",
   "metadata": {},
   "source": [
    "> #### But Centroid (a new datapoint representing the center of each cluster) is very useful to summary each cluster. "
   ]
  },
  {
   "cell_type": "code",
   "execution_count": null,
   "id": "b3d12ec4",
   "metadata": {},
   "outputs": [
    {
     "data": {
      "text/plain": [
       "array([[ 40.80616216, -73.89663687],\n",
       "       [ 40.70850756, -73.99155284],\n",
       "       [ 40.6694178 , -73.76938181],\n",
       "       [ 40.75690191, -73.98122129]])"
      ]
     },
     "execution_count": 21,
     "metadata": {},
     "output_type": "execute_result"
    }
   ],
   "source": [
    "# Bring the scaled data back to original values\n",
    "scaler = preprocessor.named_transformers_['num'].named_steps['scaler']\n",
    "X_centroids = scaler.inverse_transform(model.cluster_centers_)\n",
    "X_centroids"
   ]
  },
  {
   "cell_type": "code",
   "execution_count": null,
   "id": "08120638",
   "metadata": {},
   "outputs": [
    {
     "data": {
      "text/html": [
       "<div>\n",
       "<style scoped>\n",
       "    .dataframe tbody tr th:only-of-type {\n",
       "        vertical-align: middle;\n",
       "    }\n",
       "\n",
       "    .dataframe tbody tr th {\n",
       "        vertical-align: top;\n",
       "    }\n",
       "\n",
       "    .dataframe thead th {\n",
       "        text-align: right;\n",
       "    }\n",
       "</style>\n",
       "<table border=\"1\" class=\"dataframe\">\n",
       "  <thead>\n",
       "    <tr style=\"text-align: right;\">\n",
       "      <th></th>\n",
       "      <th>Lat</th>\n",
       "      <th>Lon</th>\n",
       "      <th>Cluster</th>\n",
       "    </tr>\n",
       "  </thead>\n",
       "  <tbody>\n",
       "    <tr>\n",
       "      <th>0</th>\n",
       "      <td>40.806162</td>\n",
       "      <td>-73.896637</td>\n",
       "      <td>0</td>\n",
       "    </tr>\n",
       "    <tr>\n",
       "      <th>1</th>\n",
       "      <td>40.708508</td>\n",
       "      <td>-73.991553</td>\n",
       "      <td>1</td>\n",
       "    </tr>\n",
       "    <tr>\n",
       "      <th>2</th>\n",
       "      <td>40.669418</td>\n",
       "      <td>-73.769382</td>\n",
       "      <td>2</td>\n",
       "    </tr>\n",
       "    <tr>\n",
       "      <th>3</th>\n",
       "      <td>40.756902</td>\n",
       "      <td>-73.981221</td>\n",
       "      <td>3</td>\n",
       "    </tr>\n",
       "  </tbody>\n",
       "</table>\n",
       "</div>"
      ],
      "text/plain": [
       "         Lat        Lon  Cluster\n",
       "0  40.806162 -73.896637        0\n",
       "1  40.708508 -73.991553        1\n",
       "2  40.669418 -73.769382        2\n",
       "3  40.756902 -73.981221        3"
      ]
     },
     "execution_count": 22,
     "metadata": {},
     "output_type": "execute_result"
    }
   ],
   "source": [
    "centroids = pd.DataFrame(X_centroids, columns=['Lat', 'Lon'])\n",
    "centroids['Cluster'] = centroids.index\n",
    "centroids"
   ]
  },
  {
   "cell_type": "code",
   "execution_count": null,
   "id": "f1de0647",
   "metadata": {},
   "outputs": [],
   "source": [
    "fig = px.scatter_mapbox(centroids,\n",
    "                        lat='Lat', \n",
    "                        lon='Lon',\n",
    "                        color='Cluster',\n",
    "                        hover_data=['Lat', 'Lon'],\n",
    "                        zoom=10,\n",
    "                        size=np.full(centroids.shape[0], 3),\n",
    "                        height=800,\n",
    "                        center=dict(lat=40.73, lon=-73.93),\n",
    "                        mapbox_style='carto-positron',\n",
    "                        title='Cluster Centroids'\n",
    "                        )\n",
    "fig.show()"
   ]
  },
  {
   "attachments": {},
   "cell_type": "markdown",
   "id": "0fa5e92b",
   "metadata": {},
   "source": [
    "## The Goal is to visualize hot-zones per hour and per day of week"
   ]
  },
  {
   "cell_type": "code",
   "execution_count": null,
   "id": "47ae1a80",
   "metadata": {},
   "outputs": [
    {
     "data": {
      "text/html": [
       "<div>\n",
       "<style scoped>\n",
       "    .dataframe tbody tr th:only-of-type {\n",
       "        vertical-align: middle;\n",
       "    }\n",
       "\n",
       "    .dataframe tbody tr th {\n",
       "        vertical-align: top;\n",
       "    }\n",
       "\n",
       "    .dataframe thead th {\n",
       "        text-align: right;\n",
       "    }\n",
       "</style>\n",
       "<table border=\"1\" class=\"dataframe\">\n",
       "  <thead>\n",
       "    <tr style=\"text-align: right;\">\n",
       "      <th></th>\n",
       "      <th>DayOfWeekAndHour</th>\n",
       "      <th>Cluster</th>\n",
       "      <th>nb_journeys</th>\n",
       "    </tr>\n",
       "  </thead>\n",
       "  <tbody>\n",
       "    <tr>\n",
       "      <th>667</th>\n",
       "      <td>Friday_3h</td>\n",
       "      <td>2</td>\n",
       "      <td>25</td>\n",
       "    </tr>\n",
       "    <tr>\n",
       "      <th>668</th>\n",
       "      <td>Saturday_1h</td>\n",
       "      <td>2</td>\n",
       "      <td>56</td>\n",
       "    </tr>\n",
       "    <tr>\n",
       "      <th>669</th>\n",
       "      <td>Sunday_2h</td>\n",
       "      <td>2</td>\n",
       "      <td>44</td>\n",
       "    </tr>\n",
       "    <tr>\n",
       "      <th>670</th>\n",
       "      <td>Sunday_7h</td>\n",
       "      <td>2</td>\n",
       "      <td>69</td>\n",
       "    </tr>\n",
       "    <tr>\n",
       "      <th>671</th>\n",
       "      <td>Thursday_2h</td>\n",
       "      <td>2</td>\n",
       "      <td>10</td>\n",
       "    </tr>\n",
       "  </tbody>\n",
       "</table>\n",
       "</div>"
      ],
      "text/plain": [
       "    DayOfWeekAndHour  Cluster  nb_journeys\n",
       "667        Friday_3h        2           25\n",
       "668      Saturday_1h        2           56\n",
       "669        Sunday_2h        2           44\n",
       "670        Sunday_7h        2           69\n",
       "671      Thursday_2h        2           10"
      ]
     },
     "execution_count": 25,
     "metadata": {},
     "output_type": "execute_result"
    }
   ],
   "source": [
    "# Determining the number of pickup points for each hour of the week\n",
    "nb_journeys_df = df.groupby(['DayOfWeekAndHour', 'Cluster'], sort=False).size().reset_index()\n",
    "nb_journeys_df.rename(columns ={0: 'nb_journeys'}, inplace=True)\n",
    "nb_journeys_df.tail(5)"
   ]
  },
  {
   "cell_type": "code",
   "execution_count": null,
   "id": "4d2ac228",
   "metadata": {},
   "outputs": [
    {
     "data": {
      "text/html": [
       "<div>\n",
       "<style scoped>\n",
       "    .dataframe tbody tr th:only-of-type {\n",
       "        vertical-align: middle;\n",
       "    }\n",
       "\n",
       "    .dataframe tbody tr th {\n",
       "        vertical-align: top;\n",
       "    }\n",
       "\n",
       "    .dataframe thead th {\n",
       "        text-align: right;\n",
       "    }\n",
       "</style>\n",
       "<table border=\"1\" class=\"dataframe\">\n",
       "  <thead>\n",
       "    <tr style=\"text-align: right;\">\n",
       "      <th></th>\n",
       "      <th>DayOfWeekAndHour</th>\n",
       "      <th>Cluster</th>\n",
       "      <th>centroid_latitude</th>\n",
       "      <th>centroid_longitude</th>\n",
       "    </tr>\n",
       "  </thead>\n",
       "  <tbody>\n",
       "    <tr>\n",
       "      <th>0</th>\n",
       "      <td>Monday_0h</td>\n",
       "      <td>2</td>\n",
       "      <td>40.665187</td>\n",
       "      <td>-73.759697</td>\n",
       "    </tr>\n",
       "    <tr>\n",
       "      <th>1</th>\n",
       "      <td>Monday_0h</td>\n",
       "      <td>3</td>\n",
       "      <td>40.753210</td>\n",
       "      <td>-73.985474</td>\n",
       "    </tr>\n",
       "    <tr>\n",
       "      <th>2</th>\n",
       "      <td>Monday_0h</td>\n",
       "      <td>0</td>\n",
       "      <td>40.814671</td>\n",
       "      <td>-73.913115</td>\n",
       "    </tr>\n",
       "    <tr>\n",
       "      <th>3</th>\n",
       "      <td>Monday_0h</td>\n",
       "      <td>1</td>\n",
       "      <td>40.705426</td>\n",
       "      <td>-73.984955</td>\n",
       "    </tr>\n",
       "    <tr>\n",
       "      <th>4</th>\n",
       "      <td>Monday_1h</td>\n",
       "      <td>3</td>\n",
       "      <td>40.752382</td>\n",
       "      <td>-73.986121</td>\n",
       "    </tr>\n",
       "  </tbody>\n",
       "</table>\n",
       "</div>"
      ],
      "text/plain": [
       "  DayOfWeekAndHour  Cluster  centroid_latitude  centroid_longitude\n",
       "0        Monday_0h        2          40.665187          -73.759697\n",
       "1        Monday_0h        3          40.753210          -73.985474\n",
       "2        Monday_0h        0          40.814671          -73.913115\n",
       "3        Monday_0h        1          40.705426          -73.984955\n",
       "4        Monday_1h        3          40.752382          -73.986121"
      ]
     },
     "execution_count": 26,
     "metadata": {},
     "output_type": "execute_result"
    }
   ],
   "source": [
    "centroid_coordinates =  df.groupby(['DayOfWeekAndHour', 'Cluster'], sort=False).apply(calculate_centroid).reset_index()\n",
    "centroid_coordinates.head()"
   ]
  },
  {
   "cell_type": "code",
   "execution_count": null,
   "id": "929ae5eb",
   "metadata": {},
   "outputs": [
    {
     "data": {
      "text/html": [
       "<div>\n",
       "<style scoped>\n",
       "    .dataframe tbody tr th:only-of-type {\n",
       "        vertical-align: middle;\n",
       "    }\n",
       "\n",
       "    .dataframe tbody tr th {\n",
       "        vertical-align: top;\n",
       "    }\n",
       "\n",
       "    .dataframe thead th {\n",
       "        text-align: right;\n",
       "    }\n",
       "</style>\n",
       "<table border=\"1\" class=\"dataframe\">\n",
       "  <thead>\n",
       "    <tr style=\"text-align: right;\">\n",
       "      <th></th>\n",
       "      <th>DayOfWeekAndHour</th>\n",
       "      <th>Cluster</th>\n",
       "      <th>Lat</th>\n",
       "      <th>Lon</th>\n",
       "      <th>Day</th>\n",
       "      <th>DayOfWeek</th>\n",
       "      <th>Month</th>\n",
       "      <th>Year</th>\n",
       "      <th>Hour</th>\n",
       "      <th>Minute</th>\n",
       "      <th>nb_journeys</th>\n",
       "      <th>centroid_latitude</th>\n",
       "      <th>centroid_longitude</th>\n",
       "    </tr>\n",
       "  </thead>\n",
       "  <tbody>\n",
       "    <tr>\n",
       "      <th>0</th>\n",
       "      <td>Monday_0h</td>\n",
       "      <td>2</td>\n",
       "      <td>40.6483</td>\n",
       "      <td>-73.78260</td>\n",
       "      <td>22.0</td>\n",
       "      <td>0.0</td>\n",
       "      <td>9.0</td>\n",
       "      <td>2014.0</td>\n",
       "      <td>0.0</td>\n",
       "      <td>15.0</td>\n",
       "      <td>130</td>\n",
       "      <td>40.665187</td>\n",
       "      <td>-73.759697</td>\n",
       "    </tr>\n",
       "    <tr>\n",
       "      <th>1</th>\n",
       "      <td>Monday_0h</td>\n",
       "      <td>3</td>\n",
       "      <td>40.7503</td>\n",
       "      <td>-73.98720</td>\n",
       "      <td>8.0</td>\n",
       "      <td>0.0</td>\n",
       "      <td>9.0</td>\n",
       "      <td>2014.0</td>\n",
       "      <td>0.0</td>\n",
       "      <td>27.0</td>\n",
       "      <td>707</td>\n",
       "      <td>40.753210</td>\n",
       "      <td>-73.985474</td>\n",
       "    </tr>\n",
       "    <tr>\n",
       "      <th>2</th>\n",
       "      <td>Monday_0h</td>\n",
       "      <td>0</td>\n",
       "      <td>40.8087</td>\n",
       "      <td>-73.93530</td>\n",
       "      <td>8.0</td>\n",
       "      <td>0.0</td>\n",
       "      <td>9.0</td>\n",
       "      <td>2014.0</td>\n",
       "      <td>0.0</td>\n",
       "      <td>28.0</td>\n",
       "      <td>137</td>\n",
       "      <td>40.814671</td>\n",
       "      <td>-73.913115</td>\n",
       "    </tr>\n",
       "    <tr>\n",
       "      <th>3</th>\n",
       "      <td>Monday_0h</td>\n",
       "      <td>1</td>\n",
       "      <td>40.7148</td>\n",
       "      <td>-73.98730</td>\n",
       "      <td>8.0</td>\n",
       "      <td>0.0</td>\n",
       "      <td>9.0</td>\n",
       "      <td>2014.0</td>\n",
       "      <td>0.0</td>\n",
       "      <td>28.0</td>\n",
       "      <td>911</td>\n",
       "      <td>40.705426</td>\n",
       "      <td>-73.984955</td>\n",
       "    </tr>\n",
       "    <tr>\n",
       "      <th>4</th>\n",
       "      <td>Monday_1h</td>\n",
       "      <td>3</td>\n",
       "      <td>40.7508</td>\n",
       "      <td>-73.99015</td>\n",
       "      <td>8.0</td>\n",
       "      <td>0.0</td>\n",
       "      <td>9.0</td>\n",
       "      <td>2014.0</td>\n",
       "      <td>1.0</td>\n",
       "      <td>27.0</td>\n",
       "      <td>490</td>\n",
       "      <td>40.752382</td>\n",
       "      <td>-73.986121</td>\n",
       "    </tr>\n",
       "  </tbody>\n",
       "</table>\n",
       "</div>"
      ],
      "text/plain": [
       "  DayOfWeekAndHour  Cluster      Lat       Lon   Day  DayOfWeek  Month  \\\n",
       "0        Monday_0h        2  40.6483 -73.78260  22.0        0.0    9.0   \n",
       "1        Monday_0h        3  40.7503 -73.98720   8.0        0.0    9.0   \n",
       "2        Monday_0h        0  40.8087 -73.93530   8.0        0.0    9.0   \n",
       "3        Monday_0h        1  40.7148 -73.98730   8.0        0.0    9.0   \n",
       "4        Monday_1h        3  40.7508 -73.99015   8.0        0.0    9.0   \n",
       "\n",
       "     Year  Hour  Minute  nb_journeys  centroid_latitude  centroid_longitude  \n",
       "0  2014.0   0.0    15.0          130          40.665187          -73.759697  \n",
       "1  2014.0   0.0    27.0          707          40.753210          -73.985474  \n",
       "2  2014.0   0.0    28.0          137          40.814671          -73.913115  \n",
       "3  2014.0   0.0    28.0          911          40.705426          -73.984955  \n",
       "4  2014.0   1.0    27.0          490          40.752382          -73.986121  "
      ]
     },
     "metadata": {},
     "output_type": "display_data"
    },
    {
     "name": "stdout",
     "output_type": "stream",
     "text": [
      "Nb of rows in the dataframe: 672\n"
     ]
    }
   ],
   "source": [
    "# Storing journey numbers as a pandas series\n",
    "nb_journeys = nb_journeys_df['nb_journeys']\n",
    "\n",
    "# Finding the optimal driver position for each cluster by taking the centroid of the coordinates of the pickup points included in this cluster. \n",
    "# the centroid is more better than the median or mean of the coordinates of the pickup points included in this cluster\n",
    "hotzones_df = df.groupby(['DayOfWeekAndHour', 'Cluster'], sort=False).median(numeric_only=True).reset_index()\n",
    "hotzones_df['nb_journeys'] = nb_journeys\n",
    "hotzones_df['centroid_latitude'] = centroid_coordinates['centroid_latitude']\n",
    "hotzones_df['centroid_longitude'] = centroid_coordinates['centroid_longitude']\n",
    "\n",
    "# Checking the resulting dataframe\n",
    "display(hotzones_df.head(5))\n",
    "\n",
    "# Checking the length of the dataframe\n",
    "print('Nb of rows in the dataframe:', len(hotzones_df))"
   ]
  },
  {
   "cell_type": "code",
   "execution_count": null,
   "id": "3ed03741",
   "metadata": {},
   "outputs": [],
   "source": [
    "# Lets us look at an animated map where each frame shows pickup points in a given hour of a day\n",
    "fig = px.scatter_mapbox(hotzones_df, \n",
    "                        lat=\"centroid_latitude\",\n",
    "                        lon=\"centroid_longitude\",\n",
    "                        animation_frame='DayOfWeekAndHour',\n",
    "                        zoom=10,\n",
    "                        color=\"Cluster\",\n",
    "                        size=np.full(hotzones_df.shape[0], 0.1),\n",
    "                        mapbox_style='carto-positron',\n",
    "                        height=800,\n",
    "                        title='Clusters Recommended positions per Hour and per Day of week'\n",
    "                        )\n",
    "fig.show()"
   ]
  },
  {
   "cell_type": "markdown",
   "id": "3ae75bef",
   "metadata": {},
   "source": [
    "## Comparaison with DBSCAN"
   ]
  },
  {
   "cell_type": "code",
   "execution_count": null,
   "id": "addb5c62",
   "metadata": {},
   "outputs": [],
   "source": [
    "size = 1000\n",
    "df_new = df.copy().head(size)\n",
    "X = preprocessor.fit_transform(df_new)\n",
    "\n",
    "# Define the distance metric to use (in this case, Haversine)\n",
    "# The Haversine distance is commonly used for calculating distances between points on the surface of the earth\n",
    "dist = DistanceMetric.get_metric('haversine')\n",
    "\n",
    "# Calculate the distance matrix\n",
    "dist_matrix = dist.pairwise(np.radians(X))\n",
    "\n",
    "# Apply DBSCAN clustering\n",
    "dbscan = DBSCAN(eps=0.1, min_samples=10, metric='precomputed')\n",
    "dbscan.fit(dist_matrix)\n",
    "\n",
    "# Get the cluster labels and the number of clusters\n",
    "labels = dbscan.labels_\n",
    "n_clusters = len(set(labels)) - (1 if -1 in labels else 0)\n",
    "\n",
    "print(\"Estimated number of clusters: %d\" % n_clusters)\n",
    "\n",
    "# Assigning a cluster to each row in the dataframe\n",
    "df_new[\"Cluster_DB\"] = labels\n",
    "\n",
    "df_new = df_new[df_new['Cluster_DB'] != -1]\n",
    "\n",
    "# Determining the number of pickup points for each hour of the week\n",
    "nb_journeys_df = df_new.groupby(['DayOfWeekAndHour', 'Cluster_DB'], sort=False).size().reset_index()\n",
    "nb_journeys_df.rename(columns ={0: 'nb_journeys'}, inplace=True)\n",
    "\n",
    "centroid_coordinates =  df_new.groupby(['DayOfWeekAndHour', 'Cluster_DB'], sort=False).apply(calculate_centroid).reset_index()\n",
    "centroid_coordinates.head()\n",
    "\n",
    "# Storing journey numbers as a pandas series\n",
    "nb_journeys = nb_journeys_df['nb_journeys']\n",
    "\n",
    "# Finding the optimal driver position for each cluster by taking the centroid of the coordinates of the pickup points included in this cluster. \n",
    "# the centroid is more better than the median or mean of the coordinates of the pickup points included in this cluster\n",
    "hotzones_df = df_new.groupby(['DayOfWeekAndHour', 'Cluster_DB'], sort=False).median(numeric_only=True).reset_index()\n",
    "hotzones_df['nb_journeys'] = nb_journeys\n",
    "hotzones_df['centroid_latitude'] = centroid_coordinates['centroid_latitude']\n",
    "hotzones_df['centroid_longitude'] = centroid_coordinates['centroid_longitude']\n",
    "\n",
    "# Lets us look at an animated map where each frame shows pickup points in a given hour of a day\n",
    "fig = px.scatter_mapbox(hotzones_df, \n",
    "                        lat=\"centroid_latitude\",\n",
    "                        lon=\"centroid_longitude\",\n",
    "                        animation_frame='DayOfWeekAndHour',\n",
    "                        zoom=10,\n",
    "                        color=\"Cluster_DB\",\n",
    "                        size=np.full(hotzones_df.shape[0], 0.1),\n",
    "                        mapbox_style='carto-positron',\n",
    "                        height=800,\n",
    "                        title='DBSCAN Clusters Recommended positions per Hour and per Day of week'\n",
    "                        )\n",
    "fig.show()"
   ]
  },
  {
   "cell_type": "markdown",
   "id": "f18ad936",
   "metadata": {},
   "source": [
    "### Sources\n",
    "\n",
    "- [does-the-mean-of-latitude-and-longitude-make-sense](https://gis.stackexchange.com/questions/164322/does-the-mean-of-latitude-and-longitude-make-sense)"
   ]
  }
 ],
 "metadata": {
  "kernelspec": {
   "display_name": "Python 3 (ipykernel)",
   "language": "python",
   "name": "python3"
  },
  "language_info": {
   "codemirror_mode": {
    "name": "ipython",
    "version": 3
   },
   "file_extension": ".py",
   "mimetype": "text/x-python",
   "name": "python",
   "nbconvert_exporter": "python",
   "pygments_lexer": "ipython3",
   "version": "3.10.9"
  },
  "vscode": {
   "interpreter": {
    "hash": "c766f7c526f554c39534ac5a6b6631b3579ceeff597e65c8c23f9bc665d77d04"
   }
  }
 },
 "nbformat": 4,
 "nbformat_minor": 5
}
