{
 "cells": [
  {
   "cell_type": "code",
   "execution_count": 1,
   "metadata": {
    "collapsed": true,
    "pycharm": {
     "name": "#%%\n"
    }
   },
   "outputs": [],
   "source": [
    "import datetime\n",
    "import pandas as pd\n",
    "import numpy as np\n",
    "from sklearn.model_selection import train_test_split\n",
    "from sklearn.metrics import average_precision_score\n",
    "from catboost import CatBoostClassifier, Pool\n",
    "from sklearn.model_selection import GridSearchCV"
   ]
  },
  {
   "cell_type": "code",
   "execution_count": 1,
   "outputs": [
    {
     "name": "stdout",
     "output_type": "stream",
     "text": [
      "=================================== CATBOOST ===================================\n",
      "Loading dataset...\n",
      "Fitting 5 folds for each of 1 candidates, totalling 5 fits\n",
      "0:\tlearn: 0.6474790\ttotal: 89.5ms\tremaining: 21.7s\n",
      "100:\tlearn: 0.7657538\ttotal: 2.19s\tremaining: 3.1s\n",
      "200:\tlearn: 0.7653806\ttotal: 4.4s\tremaining: 942ms\n",
      "243:\tlearn: 0.7649694\ttotal: 5.48s\tremaining: 0us\n",
      "{'mean_fit_time': array([13.23340111]), 'std_fit_time': array([0.13315647]), 'mean_score_time': array([0.03143668]), 'std_score_time': array([0.00682866]), 'param_depth': masked_array(data=[4],\n",
      "             mask=[False],\n",
      "       fill_value='?',\n",
      "            dtype=object), 'param_iterations': masked_array(data=[244],\n",
      "             mask=[False],\n",
      "       fill_value='?',\n",
      "            dtype=object), 'param_learning_rate': masked_array(data=[0.1],\n",
      "             mask=[False],\n",
      "       fill_value='?',\n",
      "            dtype=object), 'param_rsm': masked_array(data=[0.16326530612244897],\n",
      "             mask=[False],\n",
      "       fill_value='?',\n",
      "            dtype=object), 'params': [{'depth': 4, 'iterations': 244, 'learning_rate': 0.1, 'rsm': 0.16326530612244897}], 'split0_test_score': array([0.7554731]), 'split1_test_score': array([0.76461769]), 'split2_test_score': array([0.76119956]), 'split3_test_score': array([0.77284595]), 'split4_test_score': array([0.76876422]), 'mean_test_score': array([0.7645801]), 'std_test_score': array([0.0060033]), 'rank_test_score': array([1], dtype=int32)}\n",
      "[0.7645801]\n",
      "{'depth': 4, 'iterations': 244, 'learning_rate': 0.1, 'rsm': 0.16326530612244897}\n",
      "0.7645801027044021\n",
      "f1-score on train set :  0.7651537772469394\n",
      "f1-score on test set :  0.767189384800965\n"
     ]
    }
   ],
   "source": [
    "from sklearn.metrics import f1_score\n",
    "from sklearn.model_selection import cross_val_score\n",
    "import datetime\n",
    "import pandas as pd\n",
    "import numpy as np\n",
    "from sklearn.model_selection import train_test_split\n",
    "from sklearn.metrics import average_precision_score\n",
    "from catboost import CatBoostClassifier, Pool\n",
    "from sklearn.model_selection import GridSearchCV\n",
    "import numpy as np\n",
    "from scipy.stats import randint\n",
    "from catboost import CatBoostClassifier\n",
    "from sklearn.model_selection import RandomizedSearchCV\n",
    "\n",
    "#  {'depth': 5, 'iterations': 500, 'learning_rate': 0.01}\n",
    "print(\" CATBOOST \".center(80, \"=\"))\n",
    "\n",
    "print(\"Loading dataset...\")\n",
    "\n",
    "df = pd.read_csv(\"/Users/pryda/Documents/Projets_Jedha/2_ConversioNRate/conversion_data_train.csv\")\n",
    "\n",
    "X = df.drop([\"converted\"], axis=1)\n",
    "y = df[\"converted\"]\n",
    "\n",
    "X_train, X_test, Y_train, Y_test = train_test_split(X, y, test_size=0.2, random_state=42, stratify=y)\n",
    "\n",
    "categoricals = [\"country\", \"new_user\", \"source\"]\n",
    "\n",
    "# model = CatBoostClassifier(iterations=500, learning_rate=0.01, depth=5, loss_function=\"Logloss\", eval_metric=\"F1\", cat_features=categoricals, verbose=100) # poop\n",
    "\n",
    "# model = CatBoostClassifier(loss_function=\"Logloss\", eval_metric=\"F1\", cat_features=categoricals, verbose=100) # 0.777 train, 0.7517 test\n",
    "\n",
    "# model = CatBoostClassifier(loss_function=\"Logloss\", eval_metric=\"F1\", cat_features=categoricals, verbose=100, depth=9, learning_rate=0.2, rsm=1) # f1-score on train set :  0.7910958904109588\n",
    "# f1-score on test set :  0.7397585592717197\n",
    "\n",
    "# {'depth': 4, 'iterations': 244, 'learning_rate': 0.1, 'rsm': 0.16326530612244897}\n",
    "\n",
    "cbc = CatBoostClassifier(cat_features=categoricals, loss_function=\"Logloss\", eval_metric=\"F1\", verbose=100)\n",
    "param_grid = {\n",
    "    'learning_rate': [0.1],\n",
    "    'depth': [4],\n",
    "    'iterations': [244],\n",
    "    'rsm': [0.16326530612244897]\n",
    "}\n",
    "\n",
    "model = GridSearchCV(cbc, param_grid = param_grid, cv=5, scoring=\"f1\", n_jobs=-1, verbose=100)\n",
    "\n",
    "model.fit(X_train, Y_train)\n",
    "\n",
    "Y_train_pred = model.predict(X_train)\n",
    "Y_test_pred = model.predict(X_test)\n",
    "\n",
    "# Y_train_pred_proba = model.predict_proba(X_train)\n",
    "# Y_test_pred_proba = model.predict_proba(X_test)\n",
    "\n",
    "# calculate cross_val_score\n",
    "\n",
    "#get model cv results std scores\n",
    "print(model.cv_results_)\n",
    "print(model.cv_results_['mean_test_score'])\n",
    "\n",
    "# Print the tuned parameters and score\n",
    "print(model.best_params_)\n",
    "print(model.best_score_)\n",
    "\n",
    "print(\"f1-score on train set : \", f1_score(Y_train, Y_train_pred))\n",
    "print(\"f1-score on test set : \", f1_score(Y_test, Y_test_pred))\n",
    "\n",
    "# print(\"f1-score on train proba set : \", f1_score(Y_train, Y_train_pred_proba))\n",
    "# print(\"f1-score on test proba set : \", f1_score(Y_test, Y_test_pred_proba))\n",
    "\n",
    "# model.save_model(\"catboost_v1_randomsearch\")"
   ],
   "metadata": {
    "collapsed": false,
    "pycharm": {
     "name": "#%%\n"
    }
   }
  },
  {
   "cell_type": "code",
   "execution_count": 14,
   "outputs": [
    {
     "name": "stdout",
     "output_type": "stream",
     "text": [
      "Fitting 10 folds for each of 1 candidates, totalling 10 fits\n",
      "0:\tlearn: 0.0000000\ttotal: 70.2ms\tremaining: 17.1s\n",
      "100:\tlearn: 0.7574618\ttotal: 2.82s\tremaining: 3.99s\n",
      "200:\tlearn: 0.7655804\ttotal: 5.3s\tremaining: 1.13s\n",
      "243:\tlearn: 0.7659473\ttotal: 6.33s\tremaining: 0us\n"
     ]
    },
    {
     "data": {
      "text/plain": "GridSearchCV(cv=10,\n             estimator=<catboost.core.CatBoostClassifier object at 0x1569fd430>,\n             n_jobs=-1,\n             param_grid={'depth': [4], 'iterations': [244],\n                         'learning_rate': [0.1], 'rsm': [0.16326530612244897]},\n             scoring='f1', verbose=100)",
      "text/html": "<style>#sk-container-id-1 {color: black;background-color: white;}#sk-container-id-1 pre{padding: 0;}#sk-container-id-1 div.sk-toggleable {background-color: white;}#sk-container-id-1 label.sk-toggleable__label {cursor: pointer;display: block;width: 100%;margin-bottom: 0;padding: 0.3em;box-sizing: border-box;text-align: center;}#sk-container-id-1 label.sk-toggleable__label-arrow:before {content: \"▸\";float: left;margin-right: 0.25em;color: #696969;}#sk-container-id-1 label.sk-toggleable__label-arrow:hover:before {color: black;}#sk-container-id-1 div.sk-estimator:hover label.sk-toggleable__label-arrow:before {color: black;}#sk-container-id-1 div.sk-toggleable__content {max-height: 0;max-width: 0;overflow: hidden;text-align: left;background-color: #f0f8ff;}#sk-container-id-1 div.sk-toggleable__content pre {margin: 0.2em;color: black;border-radius: 0.25em;background-color: #f0f8ff;}#sk-container-id-1 input.sk-toggleable__control:checked~div.sk-toggleable__content {max-height: 200px;max-width: 100%;overflow: auto;}#sk-container-id-1 input.sk-toggleable__control:checked~label.sk-toggleable__label-arrow:before {content: \"▾\";}#sk-container-id-1 div.sk-estimator input.sk-toggleable__control:checked~label.sk-toggleable__label {background-color: #d4ebff;}#sk-container-id-1 div.sk-label input.sk-toggleable__control:checked~label.sk-toggleable__label {background-color: #d4ebff;}#sk-container-id-1 input.sk-hidden--visually {border: 0;clip: rect(1px 1px 1px 1px);clip: rect(1px, 1px, 1px, 1px);height: 1px;margin: -1px;overflow: hidden;padding: 0;position: absolute;width: 1px;}#sk-container-id-1 div.sk-estimator {font-family: monospace;background-color: #f0f8ff;border: 1px dotted black;border-radius: 0.25em;box-sizing: border-box;margin-bottom: 0.5em;}#sk-container-id-1 div.sk-estimator:hover {background-color: #d4ebff;}#sk-container-id-1 div.sk-parallel-item::after {content: \"\";width: 100%;border-bottom: 1px solid gray;flex-grow: 1;}#sk-container-id-1 div.sk-label:hover label.sk-toggleable__label {background-color: #d4ebff;}#sk-container-id-1 div.sk-serial::before {content: \"\";position: absolute;border-left: 1px solid gray;box-sizing: border-box;top: 0;bottom: 0;left: 50%;z-index: 0;}#sk-container-id-1 div.sk-serial {display: flex;flex-direction: column;align-items: center;background-color: white;padding-right: 0.2em;padding-left: 0.2em;position: relative;}#sk-container-id-1 div.sk-item {position: relative;z-index: 1;}#sk-container-id-1 div.sk-parallel {display: flex;align-items: stretch;justify-content: center;background-color: white;position: relative;}#sk-container-id-1 div.sk-item::before, #sk-container-id-1 div.sk-parallel-item::before {content: \"\";position: absolute;border-left: 1px solid gray;box-sizing: border-box;top: 0;bottom: 0;left: 50%;z-index: -1;}#sk-container-id-1 div.sk-parallel-item {display: flex;flex-direction: column;z-index: 1;position: relative;background-color: white;}#sk-container-id-1 div.sk-parallel-item:first-child::after {align-self: flex-end;width: 50%;}#sk-container-id-1 div.sk-parallel-item:last-child::after {align-self: flex-start;width: 50%;}#sk-container-id-1 div.sk-parallel-item:only-child::after {width: 0;}#sk-container-id-1 div.sk-dashed-wrapped {border: 1px dashed gray;margin: 0 0.4em 0.5em 0.4em;box-sizing: border-box;padding-bottom: 0.4em;background-color: white;}#sk-container-id-1 div.sk-label label {font-family: monospace;font-weight: bold;display: inline-block;line-height: 1.2em;}#sk-container-id-1 div.sk-label-container {text-align: center;}#sk-container-id-1 div.sk-container {/* jupyter's `normalize.less` sets `[hidden] { display: none; }` but bootstrap.min.css set `[hidden] { display: none !important; }` so we also need the `!important` here to be able to override the default hidden behavior on the sphinx rendered scikit-learn.org. See: https://github.com/scikit-learn/scikit-learn/issues/21755 */display: inline-block !important;position: relative;}#sk-container-id-1 div.sk-text-repr-fallback {display: none;}</style><div id=\"sk-container-id-1\" class=\"sk-top-container\"><div class=\"sk-text-repr-fallback\"><pre>GridSearchCV(cv=10,\n             estimator=&lt;catboost.core.CatBoostClassifier object at 0x1569fd430&gt;,\n             n_jobs=-1,\n             param_grid={&#x27;depth&#x27;: [4], &#x27;iterations&#x27;: [244],\n                         &#x27;learning_rate&#x27;: [0.1], &#x27;rsm&#x27;: [0.16326530612244897]},\n             scoring=&#x27;f1&#x27;, verbose=100)</pre><b>In a Jupyter environment, please rerun this cell to show the HTML representation or trust the notebook. <br />On GitHub, the HTML representation is unable to render, please try loading this page with nbviewer.org.</b></div><div class=\"sk-container\" hidden><div class=\"sk-item sk-dashed-wrapped\"><div class=\"sk-label-container\"><div class=\"sk-label sk-toggleable\"><input class=\"sk-toggleable__control sk-hidden--visually\" id=\"sk-estimator-id-1\" type=\"checkbox\" ><label for=\"sk-estimator-id-1\" class=\"sk-toggleable__label sk-toggleable__label-arrow\">GridSearchCV</label><div class=\"sk-toggleable__content\"><pre>GridSearchCV(cv=10,\n             estimator=&lt;catboost.core.CatBoostClassifier object at 0x1569fd430&gt;,\n             n_jobs=-1,\n             param_grid={&#x27;depth&#x27;: [4], &#x27;iterations&#x27;: [244],\n                         &#x27;learning_rate&#x27;: [0.1], &#x27;rsm&#x27;: [0.16326530612244897]},\n             scoring=&#x27;f1&#x27;, verbose=100)</pre></div></div></div><div class=\"sk-parallel\"><div class=\"sk-parallel-item\"><div class=\"sk-item\"><div class=\"sk-label-container\"><div class=\"sk-label sk-toggleable\"><input class=\"sk-toggleable__control sk-hidden--visually\" id=\"sk-estimator-id-2\" type=\"checkbox\" ><label for=\"sk-estimator-id-2\" class=\"sk-toggleable__label sk-toggleable__label-arrow\">estimator: CatBoostClassifier</label><div class=\"sk-toggleable__content\"><pre>&lt;catboost.core.CatBoostClassifier object at 0x1569fd430&gt;</pre></div></div></div><div class=\"sk-serial\"><div class=\"sk-item\"><div class=\"sk-estimator sk-toggleable\"><input class=\"sk-toggleable__control sk-hidden--visually\" id=\"sk-estimator-id-3\" type=\"checkbox\" ><label for=\"sk-estimator-id-3\" class=\"sk-toggleable__label sk-toggleable__label-arrow\">CatBoostClassifier</label><div class=\"sk-toggleable__content\"><pre>&lt;catboost.core.CatBoostClassifier object at 0x1569fd430&gt;</pre></div></div></div></div></div></div></div></div></div></div>"
     },
     "execution_count": 14,
     "metadata": {},
     "output_type": "execute_result"
    }
   ],
   "source": [
    "# Concatenate our train and test set to train your best classifier on all data with labels\n",
    "# X = np.append(X_train,X_test,axis=0)\n",
    "# Y = np.append(Y_train,Y_test)\n",
    "\n",
    "model.fit(X,y)"
   ],
   "metadata": {
    "collapsed": false,
    "pycharm": {
     "name": "#%%\n"
    }
   }
  },
  {
   "cell_type": "code",
   "execution_count": 2,
   "outputs": [
    {
     "name": "stdout",
     "output_type": "stream",
     "text": [
      "[1 0 0 ... 0 1 0]\n"
     ]
    }
   ],
   "source": [
    "df_test = pd.read_csv(\"/Users/pryda/Documents/Projets_Jedha/2_ConversioNRate/conversion_data_test.csv\")\n",
    "\n",
    "predictions = model.predict(df_test)\n",
    "print(predictions)\n",
    "\n",
    "pred_df = pd.DataFrame(columns=['converted'], data=predictions)\n",
    "# pred_df = pd.DataFrame({ \"converted\": np.array(predictions)[:, -1] })\n",
    "pred_df.to_csv(f\"conversion_data_test_predictions_LV_V9{datetime.datetime.now().timestamp()}.csv\",\n",
    "               index=False)"
   ],
   "metadata": {
    "collapsed": false,
    "pycharm": {
     "name": "#%%\n"
    }
   }
  }
 ],
 "metadata": {
  "kernelspec": {
   "display_name": "Python 3",
   "language": "python",
   "name": "python3"
  },
  "language_info": {
   "codemirror_mode": {
    "name": "ipython",
    "version": 2
   },
   "file_extension": ".py",
   "mimetype": "text/x-python",
   "name": "python",
   "nbconvert_exporter": "python",
   "pygments_lexer": "ipython2",
   "version": "2.7.6"
  }
 },
 "nbformat": 4,
 "nbformat_minor": 0
}