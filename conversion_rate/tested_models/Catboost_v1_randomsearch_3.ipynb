{
 "cells": [
  {
   "cell_type": "code",
   "execution_count": 1,
   "metadata": {
    "collapsed": true,
    "pycharm": {
     "name": "#%%\n"
    }
   },
   "outputs": [],
   "source": [
    "import datetime\n",
    "import pandas as pd\n",
    "import numpy as np\n",
    "import scipy as sp\n",
    "from sklearn.model_selection import train_test_split\n",
    "from sklearn.metrics import average_precision_score\n",
    "from catboost import CatBoostClassifier, Pool\n",
    "from sklearn.model_selection import GridSearchCV"
   ]
  },
  {
   "cell_type": "code",
   "execution_count": 2,
   "outputs": [
    {
     "name": "stdout",
     "output_type": "stream",
     "text": [
      "=================================== CATBOOST ===================================\n",
      "Loading dataset...\n",
      "0:\tlearn: 0.6813592\ttest: 0.6679549\tbest: 0.6679549 (0)\ttotal: 16.5ms\tremaining: 1.6s\n",
      "97:\tlearn: 0.7743197\ttest: 0.7466907\tbest: 0.7621261 (6)\ttotal: 1.43s\tremaining: 0us\n",
      "\n",
      "bestTest = 0.7621260529\n",
      "bestIteration = 6\n",
      "\n",
      "Shrink model to first 7 iterations.\n",
      "{'depth': 8, 'iterations': 98, 'learning_rate': 0.8806069737934283, 'rsm': 0.6122448979591836}\n",
      "0.9863087783768065\n",
      "f1-score on train set :  0.7671193086921793\n",
      "f1-score on test set :  0.7621260528608772\n"
     ]
    }
   ],
   "source": [
    "from sklearn.metrics import f1_score\n",
    "from sklearn.model_selection import cross_val_score\n",
    "import datetime\n",
    "import pandas as pd\n",
    "import numpy as np\n",
    "from sklearn.model_selection import train_test_split\n",
    "from sklearn.metrics import average_precision_score\n",
    "from catboost import CatBoostClassifier, Pool\n",
    "from sklearn.model_selection import GridSearchCV\n",
    "import numpy as np\n",
    "from scipy.stats import randint\n",
    "from catboost import CatBoostClassifier\n",
    "from sklearn.model_selection import RandomizedSearchCV\n",
    "from sklearn import datasets\n",
    "from sklearn.model_selection import train_test_split\n",
    "from sklearn.model_selection import RandomizedSearchCV\n",
    "from scipy.stats import uniform as sp_randFloat\n",
    "from scipy.stats import randint as sp_randInt\n",
    "from sklearn.metrics import f1_score, make_scorer\n",
    "\n",
    "f1 = make_scorer(f1_score , average='micro')\n",
    "\n",
    "#  {'depth': 5, 'iterations': 500, 'learning_rate': 0.01}\n",
    "print(\" CATBOOST \".center(80, \"=\"))\n",
    "\n",
    "print(\"Loading dataset...\")\n",
    "\n",
    "df = pd.read_csv(\"/Users/pryda/Documents/Projets_Jedha/2_ConversioNRate/conversion_data_train.csv\")\n",
    "\n",
    "X = df.drop([\"converted\"], axis=1)\n",
    "y = df[\"converted\"]\n",
    "\n",
    "X_train, X_test, Y_train, Y_test = train_test_split(X, y, test_size=0.2, random_state=0, stratify=y)\n",
    "\n",
    "categoricals = [\"country\", \"new_user\", \"source\"]\n",
    "\n",
    "# model = CatBoostClassifier(iterations=500, learning_rate=0.01, depth=5, loss_function=\"Logloss\", eval_metric=\"F1\", cat_features=categoricals, verbose=100) # poop\n",
    "\n",
    "# model = CatBoostClassifier(loss_function=\"Logloss\", eval_metric=\"F1\", cat_features=categoricals, verbose=100) # 0.777 train, 0.7517 test\n",
    "\n",
    "# model = CatBoostClassifier(loss_function=\"Logloss\", eval_metric=\"F1\", cat_features=categoricals, verbose=100, depth=9, learning_rate=0.2, rsm=1) # f1-score on train set :  0.7910958904109588\n",
    "# f1-score on test set :  0.7397585592717197\n",
    "\n",
    "cbc = CatBoostClassifier(cat_features=categoricals, loss_function=\"Logloss\", eval_metric=\"F1\", verbose=100)\n",
    "param_dist = {\n",
    "    # \"learning_rate\": np.linspace(0,0.2,5),\n",
    "    # \"depth\": randint(3, 10),\n",
    "    # \"iterations\": randint(100, 500),\n",
    "    \"rsm\": np.linspace(0,1),\n",
    "    \"learning_rate\": sp_randFloat(),\n",
    "    \"depth\": sp_randInt(1, 10),\n",
    "    \"iterations\": sp_randInt(10, 500),\n",
    "\n",
    "}\n",
    "\n",
    "model = RandomizedSearchCV(cbc, param_distributions=param_dist, n_iter=10, cv=10, scoring=f1, n_jobs=-1)\n",
    "\n",
    "model.fit(X_train, Y_train, eval_set=(X_test, Y_test))\n",
    "\n",
    "Y_train_pred = model.predict(X_train)\n",
    "Y_test_pred = model.predict(X_test)\n",
    "\n",
    "# Print the tuned parameters and score\n",
    "print(model.best_params_)\n",
    "print(model.best_score_)\n",
    "\n",
    "print(\"f1-score on train set : \", f1_score(Y_train, Y_train_pred))\n",
    "print(\"f1-score on test set : \", f1_score(Y_test, Y_test_pred))\n",
    "\n",
    "# model.save_model(\"catboost_v1_randomsearch\")"
   ],
   "metadata": {
    "collapsed": false,
    "pycharm": {
     "name": "#%%\n"
    }
   }
  },
  {
   "cell_type": "code",
   "execution_count": null,
   "outputs": [],
   "source": [
    "# Concatenate our train and test set to train your best classifier on all data with labels\n",
    "X = np.append(X_train,X_test,axis=0)\n",
    "Y = np.append(Y_train,Y_test)\n",
    "\n",
    "model.fit(X,Y)"
   ],
   "metadata": {
    "collapsed": false,
    "pycharm": {
     "name": "#%%\n"
    }
   }
  },
  {
   "cell_type": "code",
   "execution_count": null,
   "outputs": [],
   "source": [
    "df_test = pd.read_csv(\"/Users/pryda/Documents/Projets_Jedha/2_ConversioNRate/conversion_data_test.csv\")\n",
    "\n",
    "predictions = model.predict(df_test)\n",
    "print(predictions)\n",
    "\n",
    "pred_df = pd.DataFrame(columns=['converted'], data=predictions)\n",
    "# pred_df = pd.DataFrame({ \"converted\": np.array(predictions)[:, -1] })\n",
    "pred_df.to_csv(f\"conversion_data_test_predictions_LV_catboost_split{datetime.datetime.now().timestamp()}.csv\",\n",
    "               index=False)"
   ],
   "metadata": {
    "collapsed": false,
    "pycharm": {
     "name": "#%%\n"
    }
   }
  }
 ],
 "metadata": {
  "kernelspec": {
   "display_name": "Python 3",
   "language": "python",
   "name": "python3"
  },
  "language_info": {
   "codemirror_mode": {
    "name": "ipython",
    "version": 2
   },
   "file_extension": ".py",
   "mimetype": "text/x-python",
   "name": "python",
   "nbconvert_exporter": "python",
   "pygments_lexer": "ipython2",
   "version": "2.7.6"
  }
 },
 "nbformat": 4,
 "nbformat_minor": 0
}