{
 "cells": [
  {
   "cell_type": "code",
   "execution_count": 1,
   "metadata": {
    "collapsed": true,
    "pycharm": {
     "name": "#%%\n"
    }
   },
   "outputs": [],
   "source": [
    "import datetime\n",
    "import pandas as pd\n",
    "import numpy as np\n",
    "import scipy as sp\n",
    "from sklearn.model_selection import train_test_split\n",
    "from sklearn.metrics import average_precision_score\n",
    "from catboost import CatBoostClassifier, Pool\n",
    "from sklearn.model_selection import GridSearchCV"
   ]
  },
  {
   "cell_type": "code",
   "execution_count": 2,
   "outputs": [
    {
     "name": "stdout",
     "output_type": "stream",
     "text": [
      "=================================== CATBOOST ===================================\n",
      "Loading dataset...\n",
      "0:\tlearn: 0.7090158\ttest: 0.6997549\tbest: 0.6997549 (0)\ttotal: 96.2ms\tremaining: 1m 13s\n",
      "100:\tlearn: 0.7689878\ttest: 0.7490231\tbest: 0.7513514 (62)\ttotal: 3.01s\tremaining: 20s\n",
      "200:\tlearn: 0.7703292\ttest: 0.7483444\tbest: 0.7513514 (62)\ttotal: 6.14s\tremaining: 17.4s\n",
      "300:\tlearn: 0.7721063\ttest: 0.7493245\tbest: 0.7513514 (62)\ttotal: 9.49s\tremaining: 14.8s\n",
      "400:\tlearn: 0.7737961\ttest: 0.7500000\tbest: 0.7513514 (62)\ttotal: 12.6s\tremaining: 11.6s\n",
      "500:\tlearn: 0.7759916\ttest: 0.7487981\tbest: 0.7513514 (62)\ttotal: 15.8s\tremaining: 8.5s\n",
      "600:\tlearn: 0.7790942\ttest: 0.7494762\tbest: 0.7513514 (62)\ttotal: 19s\tremaining: 5.34s\n",
      "700:\tlearn: 0.7791876\ttest: 0.7483523\tbest: 0.7513514 (62)\ttotal: 22.4s\tremaining: 2.21s\n",
      "769:\tlearn: 0.7807222\ttest: 0.7488776\tbest: 0.7513514 (62)\ttotal: 24.7s\tremaining: 0us\n",
      "\n",
      "bestTest = 0.7513513514\n",
      "bestIteration = 62\n",
      "\n",
      "Shrink model to first 63 iterations.\n",
      "{'border_count': 188, 'depth': 8, 'iterations': 770, 'l2_leaf_reg': 7, 'learning_rate': 0.1632788838475221, 'loss_function': 'CrossEntropy', 'rsm': 0.2857142857142857}\n",
      "0.9862999941182318\n",
      "f1-score on train set :  0.7677268967591548\n",
      "f1-score on test set :  0.7513513513513514\n"
     ]
    }
   ],
   "source": [
    "from sklearn.metrics import f1_score\n",
    "from sklearn.model_selection import cross_val_score\n",
    "import datetime\n",
    "import pandas as pd\n",
    "import numpy as np\n",
    "from sklearn.model_selection import train_test_split\n",
    "from sklearn.metrics import average_precision_score\n",
    "from catboost import CatBoostClassifier, Pool\n",
    "from sklearn.model_selection import GridSearchCV\n",
    "import numpy as np\n",
    "from scipy.stats import randint\n",
    "from catboost import CatBoostClassifier\n",
    "from sklearn.model_selection import RandomizedSearchCV\n",
    "from sklearn import datasets\n",
    "from sklearn.model_selection import train_test_split\n",
    "from sklearn.model_selection import RandomizedSearchCV\n",
    "from scipy.stats import uniform as sp_randFloat\n",
    "from scipy.stats import randint as sp_randInt\n",
    "from sklearn.metrics import f1_score, make_scorer\n",
    "\n",
    "f1 = make_scorer(f1_score , average='micro')\n",
    "\n",
    "#  {'depth': 5, 'iterations': 500, 'learning_rate': 0.01}\n",
    "print(\" CATBOOST \".center(80, \"=\"))\n",
    "\n",
    "print(\"Loading dataset...\")\n",
    "\n",
    "df = pd.read_csv(\"/Users/pryda/Documents/Projets_Jedha/2_ConversioNRate/conversion_data_train.csv\")\n",
    "\n",
    "X = df.drop([\"converted\"], axis=1)\n",
    "y = df[\"converted\"]\n",
    "\n",
    "X_train, X_test, Y_train, Y_test = train_test_split(X, y, test_size=0.2, random_state=0, stratify=y)\n",
    "\n",
    "categoricals = [\"country\", \"new_user\", \"source\"]\n",
    "\n",
    "# model = CatBoostClassifier(iterations=500, learning_rate=0.01, depth=5, loss_function=\"Logloss\", eval_metric=\"F1\", cat_features=categoricals, verbose=100) # poop\n",
    "\n",
    "# model = CatBoostClassifier(loss_function=\"Logloss\", eval_metric=\"F1\", cat_features=categoricals, verbose=100) # 0.777 train, 0.7517 test\n",
    "\n",
    "# model = CatBoostClassifier(loss_function=\"Logloss\", eval_metric=\"F1\", cat_features=categoricals, verbose=100, depth=9, learning_rate=0.2, rsm=1) # f1-score on train set :  0.7910958904109588\n",
    "# f1-score on test set :  0.7397585592717197\n",
    "\n",
    "cbc = CatBoostClassifier(cat_features=categoricals, eval_metric=\"F1\", verbose=100)\n",
    "param_dist = {\n",
    "    # \"learning_rate\": np.linspace(0,0.2,5),\n",
    "    # \"depth\": randint(3, 10),\n",
    "    # \"iterations\": randint(100, 500),\n",
    "    \"rsm\": np.linspace(0,1),\n",
    "    \"learning_rate\": sp_randFloat(0.01, 0.8),\n",
    "    \"depth\": sp_randInt(6, 10),\n",
    "    \"iterations\": sp_randInt(10, 1000),\n",
    "    \"border_count\": sp_randInt(1, 255),\n",
    "    'l2_leaf_reg': sp_randInt(1, 10),\n",
    "    'loss_function': ['Logloss', 'CrossEntropy'],\n",
    "}\n",
    "\n",
    "model = RandomizedSearchCV(cbc, param_distributions=param_dist, n_iter=10, cv=10, scoring=f1, n_jobs=-1)\n",
    "\n",
    "model.fit(X_train, Y_train, eval_set=(X_test, Y_test))\n",
    "\n",
    "Y_train_pred = model.predict(X_train)\n",
    "Y_test_pred = model.predict(X_test)\n",
    "\n",
    "# Print the tuned parameters and score\n",
    "print(model.best_params_)\n",
    "print(model.best_score_)\n",
    "\n",
    "print(\"f1-score on train set : \", f1_score(Y_train, Y_train_pred))\n",
    "print(\"f1-score on test set : \", f1_score(Y_test, Y_test_pred))\n",
    "\n",
    "# model.save_model(\"catboost_v1_randomsearch\")"
   ],
   "metadata": {
    "collapsed": false,
    "pycharm": {
     "name": "#%%\n"
    }
   }
  },
  {
   "cell_type": "code",
   "execution_count": null,
   "outputs": [],
   "source": [
    "# Concatenate our train and test set to train your best classifier on all data with labels\n",
    "X = np.append(X_train,X_test,axis=0)\n",
    "Y = np.append(Y_train,Y_test)\n",
    "\n",
    "model.fit(X,Y)"
   ],
   "metadata": {
    "collapsed": false,
    "pycharm": {
     "name": "#%%\n"
    }
   }
  },
  {
   "cell_type": "code",
   "execution_count": null,
   "outputs": [],
   "source": [
    "df_test = pd.read_csv(\"/Users/pryda/Documents/Projets_Jedha/2_ConversioNRate/conversion_data_test.csv\")\n",
    "\n",
    "predictions = model.predict(df_test)\n",
    "print(predictions)\n",
    "\n",
    "pred_df = pd.DataFrame(columns=['converted'], data=predictions)\n",
    "# pred_df = pd.DataFrame({ \"converted\": np.array(predictions)[:, -1] })\n",
    "pred_df.to_csv(f\"conversion_data_test_predictions_LV_catboost_split{datetime.datetime.now().timestamp()}.csv\",\n",
    "               index=False)"
   ],
   "metadata": {
    "collapsed": false,
    "pycharm": {
     "name": "#%%\n"
    }
   }
  }
 ],
 "metadata": {
  "kernelspec": {
   "display_name": "Python 3",
   "language": "python",
   "name": "python3"
  },
  "language_info": {
   "codemirror_mode": {
    "name": "ipython",
    "version": 2
   },
   "file_extension": ".py",
   "mimetype": "text/x-python",
   "name": "python",
   "nbconvert_exporter": "python",
   "pygments_lexer": "ipython2",
   "version": "2.7.6"
  }
 },
 "nbformat": 4,
 "nbformat_minor": 0
}