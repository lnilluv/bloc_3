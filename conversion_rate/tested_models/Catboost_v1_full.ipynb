{
 "cells": [
  {
   "cell_type": "code",
   "execution_count": 8,
   "metadata": {
    "collapsed": true,
    "pycharm": {
     "name": "#%%\n"
    }
   },
   "outputs": [],
   "source": [
    "import datetime\n",
    "import pandas as pd\n",
    "import numpy as np\n",
    "from sklearn.model_selection import train_test_split\n",
    "from sklearn.metrics import average_precision_score, f1_score, accuracy_score\n",
    "from catboost import CatBoostClassifier, Pool\n",
    "from sklearn.model_selection import GridSearchCV"
   ]
  },
  {
   "cell_type": "code",
   "execution_count": 10,
   "outputs": [
    {
     "name": "stdout",
     "output_type": "stream",
     "text": [
      "=================================== CATBOOST ===================================\n",
      "Loading dataset...\n",
      "Learning rate set to 0.115048\n",
      "0:\tlearn: 0.7279222\ttotal: 58.8ms\tremaining: 58.8s\n",
      "100:\tlearn: 0.7649503\ttotal: 6s\tremaining: 53.4s\n",
      "200:\tlearn: 0.7670195\ttotal: 10.3s\tremaining: 41.1s\n",
      "300:\tlearn: 0.7702013\ttotal: 14.7s\tremaining: 34.2s\n",
      "400:\tlearn: 0.7722570\ttotal: 19.1s\tremaining: 28.5s\n",
      "500:\tlearn: 0.7725275\ttotal: 23.7s\tremaining: 23.6s\n",
      "600:\tlearn: 0.7745623\ttotal: 28.4s\tremaining: 18.9s\n",
      "700:\tlearn: 0.7757262\ttotal: 35.5s\tremaining: 15.1s\n",
      "800:\tlearn: 0.7763277\ttotal: 39.8s\tremaining: 9.89s\n",
      "900:\tlearn: 0.7764748\ttotal: 44.1s\tremaining: 4.85s\n",
      "999:\tlearn: 0.7782050\ttotal: 48.4s\tremaining: 0us\n",
      "accuracy_score:  0.9866048211399255\n",
      "None\n"
     ]
    }
   ],
   "source": [
    "#  {'depth': 5, 'iterations': 500, 'learning_rate': 0.01}\n",
    "print(\" CATBOOST \".center(80, \"=\"))\n",
    "\n",
    "print(\"Loading dataset...\")\n",
    "\n",
    "df = pd.read_csv(\"/Users/pryda/Documents/Projets_Jedha/2_ConversioNRate/conversion_data_train.csv\")\n",
    "\n",
    "X = df.drop([\"converted\"], axis=1)\n",
    "y = df[\"converted\"]\n",
    "\n",
    "categoricals = [\"country\", \"new_user\", \"source\"]\n",
    "\n",
    "from sklearn.metrics import f1_score\n",
    "\n",
    "# model = CatBoostClassifier(iterations=500, learning_rate=0.01, depth=5, loss_function=\"Logloss\", eval_metric=\"F1\", cat_features=categoricals, verbose=100)\n",
    "model = CatBoostClassifier(loss_function=\"Logloss\", eval_metric=\"F1\", cat_features=categoricals, verbose=100) # 0.777 train, 0.7517 test\n",
    "\n",
    "model.fit(X, y)\n",
    "\n",
    "Y_train_pred= model.predict(X)\n",
    "Y_test_pred = model.predict(X)\n",
    "\n",
    "print(\"accuracy_score: \", model.score(X, y))\n",
    "\n",
    "print(model.get_best_iteration())\n",
    "\n",
    "model.save_model(\"catboost_v1_full\")"
   ],
   "metadata": {
    "collapsed": false,
    "pycharm": {
     "name": "#%%\n"
    }
   }
  },
  {
   "cell_type": "code",
   "execution_count": null,
   "outputs": [],
   "source": [],
   "metadata": {
    "collapsed": false,
    "pycharm": {
     "name": "#%%\n"
    }
   }
  }
 ],
 "metadata": {
  "kernelspec": {
   "display_name": "Python 3",
   "language": "python",
   "name": "python3"
  },
  "language_info": {
   "codemirror_mode": {
    "name": "ipython",
    "version": 2
   },
   "file_extension": ".py",
   "mimetype": "text/x-python",
   "name": "python",
   "nbconvert_exporter": "python",
   "pygments_lexer": "ipython2",
   "version": "2.7.6"
  }
 },
 "nbformat": 4,
 "nbformat_minor": 0
}