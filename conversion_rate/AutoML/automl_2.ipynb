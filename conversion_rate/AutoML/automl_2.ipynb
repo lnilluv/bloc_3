{
 "cells": [
  {
   "cell_type": "code",
   "execution_count": 1,
   "metadata": {
    "collapsed": true,
    "pycharm": {
     "name": "#%%\n"
    }
   },
   "outputs": [
    {
     "name": "stdout",
     "output_type": "stream",
     "text": [
      "Collecting mljar-supervised\n",
      "  Downloading mljar-supervised-0.11.3.tar.gz (112 kB)\n",
      "     ------------------------------------ 112.2/112.2 kB 186.3 kB/s eta 0:00:00\n",
      "  Preparing metadata (setup.py): started\n",
      "  Preparing metadata (setup.py): finished with status 'done'\n",
      "Collecting numpy>=1.19.5\n",
      "  Downloading numpy-1.23.4-cp310-cp310-win_amd64.whl (14.6 MB)\n",
      "     --------------------------------------- 14.6/14.6 MB 59.8 MB/s eta 0:00:00\n",
      "Collecting pandas>=1.2.0\n",
      "  Downloading pandas-1.5.1-cp310-cp310-win_amd64.whl (10.4 MB)\n",
      "     --------------------------------------- 10.4/10.4 MB 65.5 MB/s eta 0:00:00\n",
      "Collecting scipy>=1.6.1\n",
      "  Downloading scipy-1.9.3-cp310-cp310-win_amd64.whl (40.1 MB)\n",
      "     --------------------------------------- 40.1/40.1 MB 38.4 MB/s eta 0:00:00\n",
      "Collecting scikit-learn>=1.0\n",
      "  Downloading scikit_learn-1.1.3-cp310-cp310-win_amd64.whl (7.5 MB)\n",
      "     ---------------------------------------- 7.5/7.5 MB 69.1 MB/s eta 0:00:00\n",
      "Collecting xgboost>=1.3.3\n",
      "  Downloading xgboost-1.7.1-py3-none-win_amd64.whl (89.1 MB)\n",
      "     --------------------------------------- 89.1/89.1 MB 22.6 MB/s eta 0:00:00\n",
      "Collecting lightgbm>=3.0.0\n",
      "  Downloading lightgbm-3.3.3-py3-none-win_amd64.whl (1.0 MB)\n",
      "     ---------------------------------------- 1.0/1.0 MB 63.4 MB/s eta 0:00:00\n",
      "Collecting catboost>=0.24.4\n",
      "  Downloading catboost-1.1.1-cp310-none-win_amd64.whl (73.9 MB)\n",
      "     --------------------------------------- 73.9/73.9 MB 24.2 MB/s eta 0:00:00\n",
      "Collecting joblib>=1.0.1\n",
      "  Downloading joblib-1.2.0-py3-none-any.whl (297 kB)\n",
      "     -------------------------------------- 298.0/298.0 kB 6.1 MB/s eta 0:00:00\n",
      "Collecting tabulate>=0.8.7\n",
      "  Downloading tabulate-0.9.0-py3-none-any.whl (35 kB)\n",
      "Collecting matplotlib>=3.2.2\n",
      "  Downloading matplotlib-3.6.2-cp310-cp310-win_amd64.whl (7.2 MB)\n",
      "     ---------------------------------------- 7.2/7.2 MB 57.7 MB/s eta 0:00:00\n",
      "Collecting dtreeviz>=1.3.3\n",
      "  Downloading dtreeviz-1.4.0-py3-none-any.whl (72 kB)\n",
      "     ---------------------------------------- 72.4/72.4 kB ? eta 0:00:00\n",
      "Collecting shap>=0.36.0\n",
      "  Downloading shap-0.41.0-cp310-cp310-win_amd64.whl (435 kB)\n",
      "     ------------------------------------- 435.6/435.6 kB 26.6 MB/s eta 0:00:00\n",
      "Collecting seaborn>=0.11.1\n",
      "  Downloading seaborn-0.12.1-py3-none-any.whl (288 kB)\n",
      "     ------------------------------------- 288.2/288.2 kB 17.4 MB/s eta 0:00:00\n",
      "Collecting wordcloud>=1.8.1\n",
      "  Downloading wordcloud-1.8.2.2-cp310-cp310-win_amd64.whl (153 kB)\n",
      "     -------------------------------------- 153.1/153.1 kB 3.0 MB/s eta 0:00:00\n",
      "Collecting category_encoders>=2.2.2\n",
      "  Downloading category_encoders-2.5.1.post0-py2.py3-none-any.whl (72 kB)\n",
      "     ---------------------------------------- 72.4/72.4 kB 4.1 MB/s eta 0:00:00\n",
      "Collecting optuna>=2.7.0\n",
      "  Downloading optuna-3.0.3-py3-none-any.whl (348 kB)\n",
      "     ------------------------------------- 348.5/348.5 kB 10.6 MB/s eta 0:00:00\n",
      "Collecting scikit-plot==0.3.7\n",
      "  Downloading scikit_plot-0.3.7-py3-none-any.whl (33 kB)\n",
      "Collecting markdown\n",
      "  Downloading Markdown-3.4.1-py3-none-any.whl (93 kB)\n",
      "     -------------------------------------- 93.3/93.3 kB 755.0 kB/s eta 0:00:00\n",
      "Requirement already satisfied: typing-extensions in c:\\users\\laure\\anaconda3\\envs\\pythonproject\\lib\\site-packages (from mljar-supervised) (4.3.0)\n",
      "Collecting plotly\n",
      "  Downloading plotly-5.11.0-py2.py3-none-any.whl (15.3 MB)\n",
      "     --------------------------------------- 15.3/15.3 MB 38.5 MB/s eta 0:00:00\n",
      "Requirement already satisfied: six in c:\\users\\laure\\anaconda3\\envs\\pythonproject\\lib\\site-packages (from catboost>=0.24.4->mljar-supervised) (1.16.0)\n",
      "Collecting graphviz\n",
      "  Downloading graphviz-0.20.1-py3-none-any.whl (47 kB)\n",
      "     ---------------------------------------- 47.0/47.0 kB ? eta 0:00:00\n",
      "Collecting statsmodels>=0.9.0\n",
      "  Downloading statsmodels-0.13.5-cp310-cp310-win_amd64.whl (9.1 MB)\n",
      "     ---------------------------------------- 9.1/9.1 MB 64.8 MB/s eta 0:00:00\n",
      "Collecting patsy>=0.5.1\n",
      "  Downloading patsy-0.5.3-py2.py3-none-any.whl (233 kB)\n",
      "     ------------------------------------- 233.8/233.8 kB 14.9 MB/s eta 0:00:00\n",
      "Collecting colour\n",
      "  Downloading colour-0.1.5-py2.py3-none-any.whl (23 kB)\n",
      "Collecting pytest\n",
      "  Downloading pytest-7.2.0-py3-none-any.whl (316 kB)\n",
      "     ------------------------------------- 316.8/316.8 kB 19.2 MB/s eta 0:00:00\n",
      "Requirement already satisfied: wheel in c:\\users\\laure\\anaconda3\\envs\\pythonproject\\lib\\site-packages (from lightgbm>=3.0.0->mljar-supervised) (0.37.1)\n",
      "Collecting pillow>=6.2.0\n",
      "  Downloading Pillow-9.3.0-cp310-cp310-win_amd64.whl (2.5 MB)\n",
      "     ---------------------------------------- 2.5/2.5 MB 52.2 MB/s eta 0:00:00\n",
      "Requirement already satisfied: packaging>=20.0 in c:\\users\\laure\\anaconda3\\envs\\pythonproject\\lib\\site-packages (from matplotlib>=3.2.2->mljar-supervised) (21.3)\n",
      "Requirement already satisfied: python-dateutil>=2.7 in c:\\users\\laure\\anaconda3\\envs\\pythonproject\\lib\\site-packages (from matplotlib>=3.2.2->mljar-supervised) (2.8.2)\n",
      "Requirement already satisfied: pyparsing>=2.2.1 in c:\\users\\laure\\anaconda3\\envs\\pythonproject\\lib\\site-packages (from matplotlib>=3.2.2->mljar-supervised) (3.0.9)\n",
      "Collecting cycler>=0.10\n",
      "  Downloading cycler-0.11.0-py3-none-any.whl (6.4 kB)\n",
      "Collecting fonttools>=4.22.0\n",
      "  Downloading fonttools-4.38.0-py3-none-any.whl (965 kB)\n",
      "     ------------------------------------- 965.4/965.4 kB 63.7 MB/s eta 0:00:00\n",
      "Collecting contourpy>=1.0.1\n",
      "  Downloading contourpy-1.0.6-cp310-cp310-win_amd64.whl (163 kB)\n",
      "     -------------------------------------- 163.6/163.6 kB 9.6 MB/s eta 0:00:00\n",
      "Collecting kiwisolver>=1.0.1\n",
      "  Downloading kiwisolver-1.4.4-cp310-cp310-win_amd64.whl (55 kB)\n",
      "     ---------------------------------------- 55.3/55.3 kB ? eta 0:00:00\n",
      "Collecting scipy>=1.6.1\n",
      "  Downloading scipy-1.8.1-cp310-cp310-win_amd64.whl (36.9 MB)\n",
      "     --------------------------------------- 36.9/36.9 MB 38.4 MB/s eta 0:00:00\n",
      "Collecting tqdm\n",
      "  Downloading tqdm-4.64.1-py2.py3-none-any.whl (78 kB)\n",
      "     ---------------------------------------- 78.5/78.5 kB 4.5 MB/s eta 0:00:00\n",
      "Collecting sqlalchemy>=1.3.0\n",
      "  Downloading SQLAlchemy-1.4.43-cp310-cp310-win_amd64.whl (1.6 MB)\n",
      "     ---------------------------------------- 1.6/1.6 MB 50.5 MB/s eta 0:00:00\n",
      "Collecting PyYAML\n",
      "  Downloading PyYAML-6.0-cp310-cp310-win_amd64.whl (151 kB)\n",
      "     -------------------------------------- 151.7/151.7 kB 8.8 MB/s eta 0:00:00\n",
      "Collecting cliff\n",
      "  Downloading cliff-4.0.0-py3-none-any.whl (80 kB)\n",
      "     ---------------------------------------- 81.0/81.0 kB ? eta 0:00:00\n",
      "Collecting colorlog\n",
      "  Downloading colorlog-6.7.0-py2.py3-none-any.whl (11 kB)\n",
      "Collecting importlib-metadata<5.0.0\n",
      "  Downloading importlib_metadata-4.13.0-py3-none-any.whl (23 kB)\n",
      "Collecting alembic>=1.5.0\n",
      "  Downloading alembic-1.8.1-py3-none-any.whl (209 kB)\n",
      "     -------------------------------------- 209.8/209.8 kB 6.4 MB/s eta 0:00:00\n",
      "Collecting cmaes>=0.8.2\n",
      "  Downloading cmaes-0.9.0-py3-none-any.whl (23 kB)\n",
      "Requirement already satisfied: pytz>=2020.1 in c:\\users\\laure\\anaconda3\\envs\\pythonproject\\lib\\site-packages (from pandas>=1.2.0->mljar-supervised) (2022.1)\n",
      "Collecting threadpoolctl>=2.0.0\n",
      "  Downloading threadpoolctl-3.1.0-py3-none-any.whl (14 kB)\n",
      "Collecting cloudpickle\n",
      "  Downloading cloudpickle-2.2.0-py3-none-any.whl (25 kB)\n",
      "Collecting numba\n",
      "  Downloading numba-0.56.4-cp310-cp310-win_amd64.whl (2.5 MB)\n",
      "     ---------------------------------------- 2.5/2.5 MB 39.1 MB/s eta 0:00:00\n",
      "Collecting slicer==0.0.7\n",
      "  Downloading slicer-0.0.7-py3-none-any.whl (14 kB)\n",
      "Collecting Mako\n",
      "  Downloading Mako-1.2.3-py3-none-any.whl (78 kB)\n",
      "     ---------------------------------------- 78.7/78.7 kB ? eta 0:00:00\n",
      "Collecting zipp>=0.5\n",
      "  Downloading zipp-3.10.0-py3-none-any.whl (6.2 kB)\n",
      "Collecting greenlet!=0.4.17\n",
      "  Downloading greenlet-2.0.1-cp310-cp310-win_amd64.whl (190 kB)\n",
      "     ---------------------------------------- 190.9/190.9 kB ? eta 0:00:00\n",
      "Requirement already satisfied: colorama in c:\\users\\laure\\anaconda3\\envs\\pythonproject\\lib\\site-packages (from tqdm->optuna>=2.7.0->mljar-supervised) (0.4.5)\n",
      "Collecting PrettyTable>=0.7.2\n",
      "  Downloading prettytable-3.5.0-py3-none-any.whl (26 kB)\n",
      "Collecting autopage>=0.4.0\n",
      "  Downloading autopage-0.5.1-py3-none-any.whl (29 kB)\n",
      "Collecting stevedore>=2.0.1\n",
      "  Downloading stevedore-4.1.1-py3-none-any.whl (50 kB)\n",
      "     ---------------------------------------- 50.0/50.0 kB 2.5 MB/s eta 0:00:00\n",
      "Collecting cmd2>=1.0.0\n",
      "  Downloading cmd2-2.4.2-py3-none-any.whl (147 kB)\n",
      "     ---------------------------------------- 147.1/147.1 kB ? eta 0:00:00\n",
      "Requirement already satisfied: setuptools in c:\\users\\laure\\anaconda3\\envs\\pythonproject\\lib\\site-packages (from numba->shap>=0.36.0->mljar-supervised) (65.5.0)\n",
      "Collecting llvmlite<0.40,>=0.39.0dev0\n",
      "  Downloading llvmlite-0.39.1-cp310-cp310-win_amd64.whl (23.2 MB)\n",
      "     --------------------------------------- 23.2/23.2 MB 46.7 MB/s eta 0:00:00\n",
      "Collecting tenacity>=6.2.0\n",
      "  Downloading tenacity-8.1.0-py3-none-any.whl (23 kB)\n",
      "Collecting exceptiongroup>=1.0.0rc8\n",
      "  Downloading exceptiongroup-1.0.1-py3-none-any.whl (12 kB)\n",
      "Requirement already satisfied: attrs>=19.2.0 in c:\\users\\laure\\anaconda3\\envs\\pythonproject\\lib\\site-packages (from pytest->dtreeviz>=1.3.3->mljar-supervised) (21.4.0)\n",
      "Collecting tomli>=1.0.0\n",
      "  Downloading tomli-2.0.1-py3-none-any.whl (12 kB)\n",
      "Collecting pluggy<2.0,>=0.12\n",
      "  Downloading pluggy-1.0.0-py2.py3-none-any.whl (13 kB)\n",
      "Collecting iniconfig\n",
      "  Downloading iniconfig-1.1.1-py2.py3-none-any.whl (5.0 kB)\n",
      "Requirement already satisfied: wcwidth>=0.1.7 in c:\\users\\laure\\anaconda3\\envs\\pythonproject\\lib\\site-packages (from cmd2>=1.0.0->cliff->optuna>=2.7.0->mljar-supervised) (0.2.5)\n",
      "Collecting pyreadline3\n",
      "  Downloading pyreadline3-3.4.1-py3-none-any.whl (95 kB)\n",
      "     ---------------------------------------- 95.2/95.2 kB ? eta 0:00:00\n",
      "Collecting pyperclip>=1.6\n",
      "  Downloading pyperclip-1.8.2.tar.gz (20 kB)\n",
      "  Preparing metadata (setup.py): started\n",
      "  Preparing metadata (setup.py): finished with status 'done'\n",
      "Collecting pbr!=2.1.0,>=2.0.0\n",
      "  Downloading pbr-5.11.0-py2.py3-none-any.whl (112 kB)\n",
      "     ---------------------------------------- 112.6/112.6 kB ? eta 0:00:00\n",
      "Requirement already satisfied: MarkupSafe>=0.9.2 in c:\\users\\laure\\anaconda3\\envs\\pythonproject\\lib\\site-packages (from Mako->alembic>=1.5.0->optuna>=2.7.0->mljar-supervised) (2.1.1)\n",
      "Building wheels for collected packages: mljar-supervised, pyperclip\n",
      "  Building wheel for mljar-supervised (setup.py): started\n",
      "  Building wheel for mljar-supervised (setup.py): finished with status 'done'\n",
      "  Created wheel for mljar-supervised: filename=mljar_supervised-0.11.3-py3-none-any.whl size=146639 sha256=fb8e8f3d2b9ff4afed491f1270dfe78265132045eec17ac1006cf9cb4f5f8bb0\n",
      "  Stored in directory: c:\\users\\laure\\appdata\\local\\pip\\cache\\wheels\\8c\\f7\\54\\c835627a26ebe329c6eaac97b90dfd0d69daa4e8e8ecd99827\n",
      "  Building wheel for pyperclip (setup.py): started\n",
      "  Building wheel for pyperclip (setup.py): finished with status 'done'\n",
      "  Created wheel for pyperclip: filename=pyperclip-1.8.2-py3-none-any.whl size=11123 sha256=0026a8209978dc1f9a30d5a3bd8fe9d953734bcb79afa35028023fa2298cbd96\n",
      "  Stored in directory: c:\\users\\laure\\appdata\\local\\pip\\cache\\wheels\\04\\24\\fe\\140a94a7f1036003ede94579e6b4227fe96c840c6f4dcbe307\n",
      "Successfully built mljar-supervised pyperclip\n",
      "Installing collected packages: pyreadline3, pyperclip, iniconfig, colour, zipp, tqdm, tomli, threadpoolctl, tenacity, tabulate, slicer, PyYAML, PrettyTable, pluggy, pillow, pbr, numpy, markdown, Mako, llvmlite, kiwisolver, joblib, greenlet, graphviz, fonttools, exceptiongroup, cycler, colorlog, cmd2, cloudpickle, autopage, stevedore, sqlalchemy, scipy, pytest, plotly, patsy, pandas, numba, importlib-metadata, contourpy, cmaes, xgboost, statsmodels, scikit-learn, matplotlib, cliff, alembic, wordcloud, shap, seaborn, scikit-plot, optuna, lightgbm, dtreeviz, category_encoders, catboost, mljar-supervised\n",
      "Successfully installed Mako-1.2.3 PrettyTable-3.5.0 PyYAML-6.0 alembic-1.8.1 autopage-0.5.1 catboost-1.1.1 category_encoders-2.5.1.post0 cliff-4.0.0 cloudpickle-2.2.0 cmaes-0.9.0 cmd2-2.4.2 colorlog-6.7.0 colour-0.1.5 contourpy-1.0.6 cycler-0.11.0 dtreeviz-1.4.0 exceptiongroup-1.0.1 fonttools-4.38.0 graphviz-0.20.1 greenlet-2.0.1 importlib-metadata-4.13.0 iniconfig-1.1.1 joblib-1.2.0 kiwisolver-1.4.4 lightgbm-3.3.3 llvmlite-0.39.1 markdown-3.4.1 matplotlib-3.6.2 mljar-supervised-0.11.3 numba-0.56.4 numpy-1.23.4 optuna-3.0.3 pandas-1.5.1 patsy-0.5.3 pbr-5.11.0 pillow-9.3.0 plotly-5.11.0 pluggy-1.0.0 pyperclip-1.8.2 pyreadline3-3.4.1 pytest-7.2.0 scikit-learn-1.1.3 scikit-plot-0.3.7 scipy-1.8.1 seaborn-0.12.1 shap-0.41.0 slicer-0.0.7 sqlalchemy-1.4.43 statsmodels-0.13.5 stevedore-4.1.1 tabulate-0.9.0 tenacity-8.1.0 threadpoolctl-3.1.0 tomli-2.0.1 tqdm-4.64.1 wordcloud-1.8.2.2 xgboost-1.7.1 zipp-3.10.0\n"
     ]
    }
   ],
   "source": [
    "!pip install mljar-supervised"
   ]
  },
  {
   "cell_type": "code",
   "execution_count": 1,
   "outputs": [],
   "source": [
    "import pandas as pd\n",
    "from sklearn.model_selection import train_test_split\n",
    "from supervised.automl import AutoML\n",
    "import warnings"
   ],
   "metadata": {
    "collapsed": false,
    "pycharm": {
     "name": "#%%\n"
    }
   }
  },
  {
   "cell_type": "code",
   "execution_count": 1,
   "outputs": [],
   "source": [
    "import pandas as pd\n",
    "from sklearn.model_selection import train_test_split\n",
    "from supervised.automl import AutoML\n",
    "import warnings\n",
    "warnings.filterwarnings(\"ignore\", category=DeprecationWarning)\n",
    "warnings.simplefilter(\"ignore\", category=FutureWarning)\n",
    "\n",
    "df = pd.read_csv(\n",
    "    \"conversion_data_train.csv\",\n",
    "    # skipinitialspace=True,\n",
    ")\n",
    "target_variable = 'converted'\n",
    "Y = df[\"converted\"]\n",
    "X = df.drop([\"converted\"], axis=1)\n",
    "\n",
    "\n",
    "# X_train, X_test, y_train, y_test = train_test_split(X, Y, test_size=0.1)\n",
    "\n",
    "automl = AutoML(results_path=\"AutoML_4\", mode=\"Compete\", eval_metric=\"f1\")\n",
    "# automl.fit(X_train, y_train)\n"
   ],
   "metadata": {
    "collapsed": false,
    "pycharm": {
     "name": "#%%\n"
    }
   }
  },
  {
   "cell_type": "code",
   "execution_count": null,
   "outputs": [],
   "source": [
    "import datetime\n",
    "automl = AutoML(results_path=\"AutoML_4\")\n",
    "\n",
    "df_test = pd.read_csv(\"C:/Users/laure/PycharmProjects/pythonProject/conversion_data_test.csv\")\n",
    "\n",
    "automl.predict(df_test)\n",
    "print(predictions)\n",
    "\n",
    "pred_df = pd.DataFrame(columns=['converted'],data=predictions)\n",
    "# pred_df = pd.DataFrame({ \"converted\": np.array(predictions)[:, -1] })\n",
    "pred_df.to_csv(f\"submission-catboost-{datetime.datetime.now().timestamp()}.csv\", index=True, header=True)\n",
    "\n",
    "# automl.predict(X)"
   ],
   "metadata": {
    "collapsed": false,
    "pycharm": {
     "is_executing": true,
     "name": "#%%\n"
    }
   }
  },
  {
   "cell_type": "code",
   "execution_count": 4,
   "outputs": [
    {
     "name": "stdout",
     "output_type": "stream",
     "text": [
      "Prediction set (without labels) : (31620, 5)\n",
      "Convert pandas DataFrames to numpy arrays...\n",
      "...Done\n",
      "[[16]\n",
      " [ 5]\n",
      " [ 1]\n",
      " [ 6]\n",
      " [ 3]]\n"
     ]
    }
   ],
   "source": [
    "# Read data without labels\n",
    "data_without_labels = pd.read_csv('conversion_data_test.csv')\n",
    "print('Prediction set (without labels) :', data_without_labels.shape)\n",
    "\n",
    "# Warning : check consistency of features_list (must be the same than the features\n",
    "# used by your best classifier)\n",
    "features_list = ['total_pages_visited']\n",
    "X_without_labels = data_without_labels.loc[:, features_list]\n",
    "\n",
    "# Convert pandas DataFrames to numpy arrays before using scikit-learn\n",
    "print(\"Convert pandas DataFrames to numpy arrays...\")\n",
    "X_without_labels = X_without_labels.values\n",
    "print(\"...Done\")\n",
    "\n",
    "print(X_without_labels[0:5,:])"
   ],
   "metadata": {
    "collapsed": false,
    "pycharm": {
     "name": "#%%\n"
    }
   }
  },
  {
   "cell_type": "code",
   "execution_count": 6,
   "outputs": [
    {
     "data": {
      "text/plain": "array([[16],\n       [ 5],\n       [ 1],\n       ...,\n       [ 5],\n       [14],\n       [ 2]], dtype=int64)"
     },
     "execution_count": 6,
     "metadata": {},
     "output_type": "execute_result"
    }
   ],
   "source": [
    "X_without_labels"
   ],
   "metadata": {
    "collapsed": false,
    "pycharm": {
     "name": "#%%\n"
    }
   }
  },
  {
   "cell_type": "code",
   "execution_count": 2,
   "outputs": [],
   "source": [
    "# Make predictions and dump to file\n",
    "# WARNING : MAKE SURE THE FILE IS A CSV WITH ONE COLUMN NAMED 'converted' AND NO INDEX !\n",
    "# WARNING : FILE NAME MUST HAVE FORMAT 'conversion_data_test_predictions_[name].csv'\n",
    "# where [name] is the name of your team/model separated by a '-'\n",
    "# For example : [name] = AURELIE-model1\n",
    "import datetime\n",
    "\n",
    "df_test = pd.read_csv(\"C:/Users/laure/PycharmProjects/pythonProject/conversion_data_test.csv\")\n",
    "\n",
    "automl = AutoML(results_path=\"AutoML_4\")\n",
    "\n",
    "data = {\n",
    "    'converted': automl.predict(df_test)\n",
    "}\n",
    "\n",
    "Y_predictions = pd.DataFrame(columns=['converted'],data=data)\n",
    "Y_predictions.to_csv(f\"conversion_data_test_predictions_LV5.csv\", index=False)"
   ],
   "metadata": {
    "collapsed": false,
    "pycharm": {
     "name": "#%%\n"
    }
   }
  }
 ],
 "metadata": {
  "kernelspec": {
   "display_name": "Python 3",
   "language": "python",
   "name": "python3"
  },
  "language_info": {
   "codemirror_mode": {
    "name": "ipython",
    "version": 2
   },
   "file_extension": ".py",
   "mimetype": "text/x-python",
   "name": "python",
   "nbconvert_exporter": "python",
   "pygments_lexer": "ipython2",
   "version": "2.7.6"
  }
 },
 "nbformat": 4,
 "nbformat_minor": 0
}